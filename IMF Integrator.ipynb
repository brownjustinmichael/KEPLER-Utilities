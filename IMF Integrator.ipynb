{
 "metadata": {
  "name": "",
  "signature": "sha256:a4d7f6168faa54220dd6accd003d4d063f5db88d41bbc362b3bb982b13bd3c77"
 },
 "nbformat": 3,
 "nbformat_minor": 0,
 "worksheets": [
  {
   "cells": [
    {
     "cell_type": "code",
     "collapsed": false,
     "input": [
      "import database.database as db\n",
      "\n",
      "session = db.Session ()"
     ],
     "language": "python",
     "metadata": {},
     "outputs": [],
     "prompt_number": 1
    },
    {
     "cell_type": "code",
     "collapsed": false,
     "input": [
      "q = db.basicQuery (session).filter (db.DumpFileEntry.state == \"presn\").order_by (db.DumpFileEntry.totm0)"
     ],
     "language": "python",
     "metadata": {},
     "outputs": [],
     "prompt_number": 2
    },
    {
     "cell_type": "code",
     "collapsed": false,
     "input": [
      "import numpy as np\n",
      "\n",
      "def total_oxygen (datadump):\n",
      "    return np.sum (datadump ['o16'] * datadump ['xm'])"
     ],
     "language": "python",
     "metadata": {},
     "outputs": [],
     "prompt_number": 3
    },
    {
     "cell_type": "code",
     "collapsed": false,
     "input": [
      "import astropy.units as u\n",
      "\n",
      "masses = u.Quantity ([dump.totm0 for sim, dump in q.all ()], u.g).to (u.solMass)\n",
      "total_o16 = u.Quantity ([dump.cache (session, 'tot_o16', total_oxygen) for sim, dump in q.all ()]).to (u.solMass)"
     ],
     "language": "python",
     "metadata": {},
     "outputs": [],
     "prompt_number": 4
    },
    {
     "cell_type": "code",
     "collapsed": false,
     "input": [
      "import math\n",
      "\n",
      "solar_o16 = 6.60E-03\n",
      "solar_fe56 = 1.26E-03\n",
      "def xony (stellar_fraction, solar_fraction):\n",
      "    return math.log10 (stellar_fraction) - math.log10 (solar_fraction)"
     ],
     "language": "python",
     "metadata": {},
     "outputs": [],
     "prompt_number": 5
    },
    {
     "cell_type": "code",
     "collapsed": false,
     "input": [
      "import yields.janka as janka\n",
      "import scipy.interpolate\n",
      "import yields.yields as yld\n",
      "import yields.integrator as integrator\n",
      "\n",
      "janka_dir = \"/Users/justinbrown/Dropbox/Research/Stan/links14/\"\n",
      "janka_files = [\"results_n20.0.txt\", \"results_w15.0.txt\", \"results_w18.0.txt\", \"results_w20.0.txt\"]\n",
      "\n",
      "yr = yld.YieldReader ()\n",
      "wh_imf = integrator.IMFIntegrator (yr.get_masses ())\n",
      "\n",
      "imf = integrator.IMFIntegrator (masses)\n",
      "\n",
      "print (\"File\", \"o16/fe56\", \"o16/fe56 w/ winds\", \"<E_exp>\", \"<Remnant Mass>\")\n",
      "jps = {}\n",
      "without_winds = {}\n",
      "with_winds = {}\n",
      "e_exp = {}\n",
      "neutron_star = {}\n",
      "for f in janka_files:\n",
      "    jp = janka.JankaParser (janka_dir + f)\n",
      "    jps [f] = jp\n",
      "    janka_imf = integrator.IMFIntegrator (jp [\":M\"])\n",
      "    \n",
      "    ni_interp = scipy.interpolate.interp1d (jp [\":M\"], jp [\":with_fallback:M_outside(Ni)\"], bounds_error = False, fill_value = 0.0)\n",
      "    total_ni56 = ni_interp (masses.to (u.solMass)) * u.solMass\n",
      "    \n",
      "    mask = np.logical_and (total_ni56 > 0.0 * u.solMass, masses >= 15.0 * u.solMass, masses <= 30.0 * u.solMass)\n",
      "    without_winds [f] = imf (total_o16, mask = mask).to (u.solMass) / imf (total_ni56, mask = mask)\n",
      "    with_winds [f] = (imf (total_o16, mask = mask).to (u.solMass) + wh_imf (yr.get_winds ('o16'))) / (imf (total_ni56, mask = mask).to (u.solMass) + wh_imf (yr.get_winds ('fe56')))\n",
      "    \n",
      "    e_exp [f] = janka_imf (jp [\":E_exp\"], mask = jp [\":E_exp\"] > 0.0 * u.erg, mask_frequency = True)\n",
      "    neutron_star [f] = janka_imf (jp [\":with_fallback:M_mass_cut_after_fb\"], mask = np.logical_and (jp [\":E_exp\"] > 0.0 * u.erg, np.logical_or (jp [\":M\"] < 27.2 * u.solMass, jp [\":M\"] > 27.3 * u.solMass)), mask_frequency = True)\n",
      "    \n",
      "    print (f, without_winds [f], with_winds [f], e_exp [f], neutron_star [f])\n",
      "    "
     ],
     "language": "python",
     "metadata": {},
     "outputs": [
      {
       "output_type": "stream",
       "stream": "stdout",
       "text": [
        "File o16/fe56 o16/fe56 w/ winds <E_exp> <Remnant Mass>\n",
        "results_n20.0.txt"
       ]
      },
      {
       "output_type": "stream",
       "stream": "stdout",
       "text": [
        " 30.578705385340832 27.508067859023452 1.1044496000134635e+51 erg 1.7658188213103703 solMass\n",
        "results_w15.0.txt"
       ]
      },
      {
       "output_type": "stream",
       "stream": "stdout",
       "text": [
        " 37.10847616008399 29.91678800814654 8.206708445024648e+50 erg 1.6957450969316776 solMass\n",
        "results_w18.0.txt"
       ]
      },
      {
       "output_type": "stream",
       "stream": "stdout",
       "text": [
        " 35.64000948150049 29.63427434931561 9.190285023130074e+50 erg 1.6806297746497258 solMass\n",
        "results_w20.0.txt"
       ]
      },
      {
       "output_type": "stream",
       "stream": "stdout",
       "text": [
        " 50.24390717236653 29.303226220914652 1.0793466213533646e+51 erg 1.6966106374907108 solMass\n"
       ]
      }
     ],
     "prompt_number": 6
    },
    {
     "cell_type": "code",
     "collapsed": false,
     "input": [
      "%matplotlib inline\n",
      "\n",
      "import matplotlib.pyplot as plt\n",
      "\n",
      "fig = plt.figure (figsize = (10,10))\n",
      "ax = plt.subplot (111)\n",
      "\n",
      "jp = jps [\"results_w20.0.txt\"]\n",
      "\n",
      "ni_interp = scipy.interpolate.interp1d (jp [\":M\"], jp [\":with_fallback:M_outside(Ni)\"], bounds_error = False, fill_value = 0.0)\n",
      "total_ni56 = ni_interp (masses.to (u.solMass)) * u.solMass\n",
      "\n",
      "ax.plot (masses, total_o16, label = \"$^{16}\\mathrm{O}$\")\n",
      "ax.plot (masses, total_ni56, label = \"$^{56}\\mathrm{Ni}$\")\n",
      "\n",
      "# ax.plot (masses, (total_ni56 / total_o16), label = \"$^{56}\\mathrm{Ni}/^{16}\\mathrm{O} $\")\n",
      "\n",
      "ax.legend ()\n",
      "\n",
      "plt.show ()"
     ],
     "language": "python",
     "metadata": {},
     "outputs": [
      {
       "metadata": {},
       "output_type": "display_data",
       "png": "[encoded data removed]",
       "text": [
        "<matplotlib.figure.Figure at 0x101ca57f0>"
       ]
      }
     ],
     "prompt_number": 7
    },
    {
     "cell_type": "code",
     "collapsed": false,
     "input": [
      "plt.figure (figsize = (10,10))\n",
      "ax = plt.subplot (111)\n",
      "\n",
      "ax.plot (jp [\":M\"], jp [\":E_exp\"])\n",
      "\n",
      "ax.set_yscale (\"log\")\n",
      "\n",
      "plt.show ()"
     ],
     "language": "python",
     "metadata": {},
     "outputs": [
      {
       "metadata": {},
       "output_type": "display_data",
       "png": "[encoded data removed]",
       "text": [
        "<matplotlib.figure.Figure at 0x110207780>"
       ]
      }
     ],
     "prompt_number": 45
    },
    {
     "cell_type": "code",
     "collapsed": false,
     "input": [
      "imf (masses.to (u.solMass), mask = np.logical_and (total_ni56 > 0.0 * u.solMass, masses >= 15.0 * u.solMass, masses <= 30.0 * u.solMass), mask_frequency = True)"
     ],
     "language": "python",
     "metadata": {},
     "outputs": [
      {
       "latex": [
        "$20.4278 \\; \\mathrm{M_{\\odot}}$"
       ],
       "metadata": {},
       "output_type": "pyout",
       "prompt_number": 43,
       "text": [
        "<Quantity 20.42784021481476 solMass>"
       ]
      }
     ],
     "prompt_number": 43
    },
    {
     "cell_type": "code",
     "collapsed": false,
     "input": [
      "imf (masses)"
     ],
     "language": "python",
     "metadata": {},
     "outputs": [
      {
       "latex": [
        "$17.8264 \\; \\mathrm{M_{\\odot}}$"
       ],
       "metadata": {},
       "output_type": "pyout",
       "prompt_number": 41,
       "text": [
        "<Quantity 17.826387105136764 solMass>"
       ]
      }
     ],
     "prompt_number": 41
    },
    {
     "cell_type": "code",
     "collapsed": false,
     "input": [],
     "language": "python",
     "metadata": {},
     "outputs": []
    }
   ],
   "metadata": {}
  }
 ]
}