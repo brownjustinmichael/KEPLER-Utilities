{
 "metadata": {
  "name": "",
  "signature": "sha256:647a620acc86f734dc8c2d3fee16fe3d5bca3cab524c18753fe42a2eb8d2466f"
 },
 "nbformat": 3,
 "nbformat_minor": 0,
 "worksheets": [
  {
   "cells": [
    {
     "cell_type": "code",
     "collapsed": false,
     "input": [
      "import yields.janka as janka\n",
      "import scipy.interpolate\n",
      "import yields.yields as yld\n",
      "import yields.integrator as integrator\n",
      "import astropy.units as u\n",
      "import numpy as np\n",
      "\n",
      "janka_dir = \"/Users/justinbrown/Dropbox/Research/Stan/links14/\"\n",
      "janka_files = [\"results_n20.0.txt\", \"results_w15.0.txt\", \"results_w18.0.txt\", \"results_w20.0.txt\"]\n",
      "\n",
      "yr = yld.YieldReader ()\n",
      "wh_imf = integrator.IMFIntegrator (yr.get_masses ())\n",
      "masses = yr.get_masses ()\n",
      "\n",
      "imf = integrator.IMFIntegrator (masses)\n",
      "\n",
      "print (\"File\", \"o16/fe56\", \"o16/fe56 w/ winds\", \"<E_exp>\", \"<Remnant Mass>\")\n",
      "jps = {}\n",
      "without_winds = {}\n",
      "with_winds = {}\n",
      "e_exp = {}\n",
      "neutron_star = {}\n",
      "for f in janka_files:\n",
      "    jp = janka.JankaParser (janka_dir + f)\n",
      "    jps [f] = jp\n",
      "    janka_imf = integrator.IMFIntegrator (jp [\":M\"])\n",
      "    \n",
      "#     ni_interp = scipy.interpolate.interp1d (jp [\":M\"], jp [\":with_fallback:M_outside(Ni)\"], bounds_error = False, fill_value = 0.0)\n",
      "#     total_ni56 = ni_interp (masses.to (u.solMass)) * u.solMass\n",
      "    \n",
      "#     mask = np.logical_and (total_ni56 > 0.0 * u.solMass, masses >= 15.0 * u.solMass, masses <= 30.0 * u.solMass)\n",
      "#     without_winds [f] = imf (total_o16, mask = mask).to (u.solMass) / imf (total_ni56, mask = mask)\n",
      "#     with_winds [f] = (imf (total_o16, mask = mask).to (u.solMass) + wh_imf (yr.get_winds ('o16'))) / (imf (total_ni56, mask = mask).to (u.solMass) + wh_imf (yr.get_winds ('fe56')))\n",
      "    \n",
      "    e_exp [f] = janka_imf (jp [\":E_exp\"], mask = jp [\":E_exp\"] > 0.0 * u.erg, mask_frequency = True)\n",
      "    neutron_star [f] = janka_imf (jp [\":with_fallback:M_mass_cut_after_fb\"], mask = np.logical_and (jp [\":E_exp\"] > 0.0 * u.erg, np.logical_or (jp [\":M\"] < 27.2 * u.solMass, jp [\":M\"] > 27.3 * u.solMass)), mask_frequency = True)\n",
      "    \n",
      "#     print (f, without_winds [f], with_winds [f], e_exp [f], neutron_star [f])\n",
      "\n",
      "    print (f, 0.0, 0.0, e_exp [f], neutron_star [f])\n",
      "\n",
      "    newmasses = np.array (list (np.arange (9,15,0.1)) + list (jp [\":M\"].value) + list (np.arange (30,120,0.1))) * u.solMass\n",
      "    new_imf = integrator.IMFIntegrator (newmasses)\n",
      "    mask = np.array (list (np.arange (9,15,0.1)>0) + list (jp [\":E_exp\"].value > 0) + list (np.arange (30,120,0.1)<0), dtype = bool)\n",
      "    print (new_imf (newmasses, mask = mask, mask_frequency = True))\n",
      "#     for i in np.logical_and (mask, newmasses > 13.1 * u.solMass):\n",
      "#         print (i)\n",
      "#     print (mask)\n",
      "    print (new_imf (newmasses / newmasses, mask = mask))"
     ],
     "language": "python",
     "metadata": {},
     "outputs": [
      {
       "output_type": "stream",
       "stream": "stdout",
       "text": [
        "File o16/fe56 o16/fe56 w/ winds <E_exp> <Remnant Mass>\n",
        "results_n20.0.txt"
       ]
      },
      {
       "output_type": "stream",
       "stream": "stdout",
       "text": [
        " 0.0 0.0 1.1044496000134635e+51 erg 1.7658188213103703 solMass\n",
        "13.49925093937918 solMass\n",
        "0.698789127670372\n",
        "results_w15.0.txt"
       ]
      },
      {
       "output_type": "stream",
       "stream": "stdout",
       "text": [
        " 0.0 0.0 8.206708445024648e+50 erg 1.6957450969316776 solMass\n",
        "12.828202495848302 solMass\n",
        "0.6451640204804605\n",
        "results_w18.0.txt"
       ]
      },
      {
       "output_type": "stream",
       "stream": "stdout",
       "text": [
        " 0.0 0.0 9.190285023130074e+50 erg 1.6806297746497258 solMass\n",
        "13.027218105026943 solMass\n",
        "0.6574527352256498\n",
        "results_w20.0.txt"
       ]
      },
      {
       "output_type": "stream",
       "stream": "stdout",
       "text": [
        " 0.0 0.0 1.0793466213533646e+51 erg 1.6966106374907104 solMass\n",
        "12.027047259401789 solMass\n",
        "0.5555443387716895\n"
       ]
      }
     ],
     "prompt_number": 8
    },
    {
     "cell_type": "code",
     "collapsed": false,
     "input": [
      "import kepler_utils.yields.janka as janka\n",
      "import scipy.interpolate\n",
      "import kepler_utils.yields.yields as yld\n",
      "import kepler_utils.yields.integrator as integrator\n",
      "import astropy.units as u\n",
      "import numpy as np\n",
      "import astropy.constants as consts\n",
      "\n",
      "janka_dir = \"/Users/justinbrown/Dropbox/Research/Stan/links14/\"\n",
      "janka_calibrations = [\"w15.0\", \"w18.0\", \"w20.0\", \"n20.0\"]\n",
      "\n",
      "lower_sn_limit = 8\n",
      "remnant_approximation = \"si\"\n",
      "\n",
      "for calibration in janka_calibrations:\n",
      "    jp = None\n",
      "    jps = []\n",
      "    janka_files = [\"results_low_mass_%s.txt\" % calibration, \"results_%s.txt\" % calibration, \"results_heavy_%s.txt\" % calibration]\n",
      "    for f in janka_files:\n",
      "        jps.append (janka.JankaParser.readFrom (janka_dir + f))\n",
      "        if jp is None:\n",
      "            jp = jps [-1]\n",
      "        else:\n",
      "            jp += jps [-1]\n",
      "\n",
      "    janka_imf = integrator.IMFIntegrator (jp [\":M\"])\n",
      "    \n",
      "    print (\"Calibration: \", calibration)\n",
      "    \n",
      "    print (\"E\", janka_imf (jp [\":E_exp\"], mask = jp [\":E_exp\"] > 0.0 * u.erg, mask_frequency = True))\n",
      "    \n",
      "    newmasses = np.array (list (np.arange (lower_sn_limit,13.6,0.1)) + list (jp [\":M\"].value) + list (np.arange (30,120,1.0))) * u.solMass\n",
      "    new_imf = integrator.IMFIntegrator (newmasses)\n",
      "    mask = np.array (list (np.arange (lower_sn_limit,13.6,0.1)>0) + list (jp [\":E_exp\"].value > 0) + list (np.arange (30,120,1.0)<0), dtype = bool)\n",
      "    print (\"Average SN Mass\", new_imf (newmasses, mask = mask, mask_frequency = True))\n",
      "\n",
      "    print (\"%\", new_imf (newmasses / newmasses, mask = mask), new_imf (newmasses / newmasses, mask = np.logical_and (newmasses > 20.0 * u.solMass, mask)) / new_imf (newmasses / newmasses, mask = newmasses > 20.0 * u.solMass))\n",
      "    \n",
      "    wdata = np.genfromtxt (\"../wcores.dat\", names = True)\n",
      "    w_imf = integrator.IMFIntegrator (wdata [\"Minit\"])\n",
      "    w_remnants = wdata [remnant_approximation] * u.solMass\n",
      "    \n",
      "    baryonic_masses = u.Quantity (list (w_remnants) + list (jp [\":with_fallback:M_mass_cut_after_fb\"]))\n",
      "    baryonic_masses [baryonic_masses > 2.5 * u.solMass] = 0. * u.solMass\n",
      "    integrated_baryonic_mass = (w_imf + janka_imf) (baryonic_masses, mask = list ((w_remnants > 0.0 * u.solMass)) + list ((jp [\":E_exp\"] > 0.0 * u.erg)), mask_frequency = True)\n",
      "    print (\"M_remnant\", integrated_baryonic_mass, integrated_baryonic_mass * (1 - 3.0 / 5.0 * consts.G * integrated_baryonic_mass / (12 * u.km * consts.c ** 2)))\n",
      "    \n",
      "#     full_imf = integrator.IMFIntegrator (np.arange (9,15,0.1) * u.solMass)) + \n",
      "    \n",
      "#     mask = np.array (list (np.arange (9,15,0.1)>0) + list (jp [\":E_exp\"].value > 0)), dtype = bool)\n",
      "#     print (new_imf (newmasses, mask = mask, mask_frequency = True))\n",
      "#     print (new_imf (newmasses / newmasses, mask = mask))"
     ],
     "language": "python",
     "metadata": {},
     "outputs": [
      {
       "output_type": "stream",
       "stream": "stdout",
       "text": [
        "('Calibration: ', 'w15.0')\n",
        "('E', <Quantity 8.928865597973748e+50 erg>)\n",
        "('Average SN Mass', <Quantity 14.59689173719573 solMass>)"
       ]
      },
      {
       "output_type": "stream",
       "stream": "stdout",
       "text": [
        "\n",
        "('%', <Quantity 0.7103173210947495>, <Quantity 0.10431163434647052>)\n",
        "('M_remnant', <Quantity 1.3565005902426697 solMass>, <Quantity 1.2206063716992301 solMass>)"
       ]
      },
      {
       "output_type": "stream",
       "stream": "stdout",
       "text": [
        "\n",
        "('Calibration: ', 'w18.0')"
       ]
      },
      {
       "output_type": "stream",
       "stream": "stdout",
       "text": [
        "\n",
        "('E', <Quantity 9.91361652120022e+50 erg>)\n",
        "('Average SN Mass', <Quantity 14.775400056200407 solMass>)"
       ]
      },
      {
       "output_type": "stream",
       "stream": "stdout",
       "text": [
        "\n",
        "('%', <Quantity 0.7207777576766516>, <Quantity 0.12275095783150296>)\n",
        "('M_remnant', <Quantity 1.3565771322998161 solMass>, <Quantity 1.220667577358327 solMass>)"
       ]
      },
      {
       "output_type": "stream",
       "stream": "stdout",
       "text": [
        "\n",
        "('Calibration: ', 'w20.0')"
       ]
      },
      {
       "output_type": "stream",
       "stream": "stdout",
       "text": [
        "\n",
        "('E', <Quantity 1.0622399178339043e+51 erg>)\n",
        "('Average SN Mass', <Quantity 12.780670723776895 solMass>)"
       ]
      },
      {
       "output_type": "stream",
       "stream": "stdout",
       "text": [
        "\n",
        "('%', <Quantity 0.6214438900227169>, <Quantity 0.03729799571003209>)\n",
        "('M_remnant', <Quantity 1.3562582258140252 solMass>, <Quantity 1.2204125630656337 solMass>)"
       ]
      },
      {
       "output_type": "stream",
       "stream": "stdout",
       "text": [
        "\n",
        "('Calibration: ', 'n20.0')"
       ]
      },
      {
       "output_type": "stream",
       "stream": "stdout",
       "text": [
        "\n",
        "('E', <Quantity 1.1097485481024623e+51 erg>)\n",
        "('Average SN Mass', <Quantity 17.33210143354078 solMass>)"
       ]
      },
      {
       "output_type": "stream",
       "stream": "stdout",
       "text": [
        "\n",
        "('%', <Quantity 0.775271882008915>, <Quantity 0.20055266749124703>)\n",
        "('M_remnant', <Quantity 1.356850096111723 solMass>, <Quantity 1.2208858415564983 solMass>)"
       ]
      },
      {
       "output_type": "stream",
       "stream": "stdout",
       "text": [
        "\n"
       ]
      }
     ],
     "prompt_number": 21
    },
    {
     "cell_type": "code",
     "collapsed": false,
     "input": [
      "jp [\":M\"]"
     ],
     "language": "python",
     "metadata": {},
     "outputs": [
      {
       "metadata": {},
       "output_type": "pyout",
       "prompt_number": 22,
       "text": [
        "<Quantity [  13.6,  13.7,  13.8,  13.9,  14. ,  14.1,  14.2,  14.3,  14.4,\n",
        "             14.5,  14.6,  14.7,  14.8,  14.9,  15. ,  15.1,  15.2,  15.3,\n",
        "             15.4,  15.5,  15.6,  15.7,  15.8,  15.9,  16. ,  16.1,  16.2,\n",
        "             16.3,  16.4,  16.5,  16.6,  16.7,  16.8,  16.9,  17. ,  17.1,\n",
        "             17.2,  17.3,  17.4,  17.5,  17.6,  17.7,  17.8,  17.9,  18. ,\n",
        "             18.1,  18.2,  18.3,  18.4,  18.5,  18.6,  18.7,  18.8,  18.9,\n",
        "             19. ,  19.1,  19.2,  19.3,  19.4,  19.5,  19.6,  19.7,  19.8,\n",
        "             19.9,  20. ,  20.1,  20.2,  20.3,  20.4,  20.5,  20.6,  20.7,\n",
        "             20.8,  20.9,  21. ,  21.1,  21.2,  21.3,  21.4,  21.5,  21.6,\n",
        "             21.7,  21.8,  21.9,  22. ,  22.1,  22.2,  22.3,  22.4,  22.5,\n",
        "             22.6,  22.7,  22.8,  22.9,  23. ,  23.1,  23.2,  23.3,  23.4,\n",
        "             23.5,  23.6,  23.7,  23.8,  23.9,  24. ,  24.1,  24.2,  24.3,\n",
        "             24.4,  24.5,  24.6,  24.7,  24.8,  24.9,  25. ,  25.1,  25.2,\n",
        "             25.3,  25.4,  25.5,  25.6,  25.7,  25.8,  25.9,  26. ,  26.1,\n",
        "             26.2,  26.3,  26.4,  26.5,  26.6,  26.7,  26.8,  26.9,  27. ,\n",
        "             27.1,  27.2,  27.3,  27.4,  27.5,  27.6,  27.7,  27.8,  27.9,\n",
        "             28. ,  28.1,  28.2,  28.3,  28.4,  28.5,  28.6,  28.7,  28.8,\n",
        "             28.9,  29. ,  29.1,  29.2,  29.3,  29.4,  29.5,  29.6,  29.7,\n",
        "             29.8,  29.9,  30. ,  31. ,  32. ,  33. ,  35. ,  40. ,  45. ,\n",
        "             50. ,  55. ,  60. ,  70. ,  80. , 100. , 120. ] solMass>"
       ]
      }
     ],
     "prompt_number": 22
    },
    {
     "cell_type": "code",
     "collapsed": false,
     "input": [
      "import numpy as np"
     ],
     "language": "python",
     "metadata": {},
     "outputs": [],
     "prompt_number": 10
    },
    {
     "cell_type": "code",
     "collapsed": false,
     "input": [
      "np.genfromtxt (\"wcoresnames = True)"
     ],
     "language": "python",
     "metadata": {},
     "outputs": []
    }
   ],
   "metadata": {}
  }
 ]
}