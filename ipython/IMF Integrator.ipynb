{
 "metadata": {
  "name": "",
  "signature": "sha256:48a81da02b854cc475a7aab04911feb15a602785b4ef293f4653f95d51fd4c7c"
 },
 "nbformat": 3,
 "nbformat_minor": 0,
 "worksheets": [
  {
   "cells": [
    {
     "cell_type": "code",
     "collapsed": false,
     "input": [
      "import yields.janka as janka\n",
      "import scipy.interpolate\n",
      "import yields.yields as yld\n",
      "import yields.integrator as integrator\n",
      "import astropy.units as u\n",
      "import numpy as np\n",
      "\n",
      "janka_dir = \"/Users/justinbrown/Dropbox/Research/Stan/links14/\"\n",
      "janka_files = [\"results_n20.0.txt\", \"results_w15.0.txt\", \"results_w18.0.txt\", \"results_w20.0.txt\"]\n",
      "\n",
      "yr = yld.YieldReader ()\n",
      "wh_imf = integrator.IMFIntegrator (yr.get_masses ())\n",
      "masses = yr.get_masses ()\n",
      "\n",
      "imf = integrator.IMFIntegrator (masses)\n",
      "\n",
      "print (\"File\", \"o16/fe56\", \"o16/fe56 w/ winds\", \"<E_exp>\", \"<Remnant Mass>\")\n",
      "jps = {}\n",
      "without_winds = {}\n",
      "with_winds = {}\n",
      "e_exp = {}\n",
      "neutron_star = {}\n",
      "for f in janka_files:\n",
      "    jp = janka.JankaParser (janka_dir + f)\n",
      "    jps [f] = jp\n",
      "    janka_imf = integrator.IMFIntegrator (jp [\":M\"])\n",
      "    \n",
      "#     ni_interp = scipy.interpolate.interp1d (jp [\":M\"], jp [\":with_fallback:M_outside(Ni)\"], bounds_error = False, fill_value = 0.0)\n",
      "#     total_ni56 = ni_interp (masses.to (u.solMass)) * u.solMass\n",
      "    \n",
      "#     mask = np.logical_and (total_ni56 > 0.0 * u.solMass, masses >= 15.0 * u.solMass, masses <= 30.0 * u.solMass)\n",
      "#     without_winds [f] = imf (total_o16, mask = mask).to (u.solMass) / imf (total_ni56, mask = mask)\n",
      "#     with_winds [f] = (imf (total_o16, mask = mask).to (u.solMass) + wh_imf (yr.get_winds ('o16'))) / (imf (total_ni56, mask = mask).to (u.solMass) + wh_imf (yr.get_winds ('fe56')))\n",
      "    \n",
      "    e_exp [f] = janka_imf (jp [\":E_exp\"], mask = jp [\":E_exp\"] > 0.0 * u.erg, mask_frequency = True)\n",
      "    neutron_star [f] = janka_imf (jp [\":with_fallback:M_mass_cut_after_fb\"], mask = np.logical_and (jp [\":E_exp\"] > 0.0 * u.erg, np.logical_or (jp [\":M\"] < 27.2 * u.solMass, jp [\":M\"] > 27.3 * u.solMass)), mask_frequency = True)\n",
      "    \n",
      "#     print (f, without_winds [f], with_winds [f], e_exp [f], neutron_star [f])\n",
      "\n",
      "    print (f, 0.0, 0.0, e_exp [f], neutron_star [f])\n",
      "\n",
      "    newmasses = np.array (list (np.arange (9,15,0.1)) + list (jp [\":M\"].value) + list (np.arange (30,120,0.1))) * u.solMass\n",
      "    new_imf = integrator.IMFIntegrator (newmasses)\n",
      "    mask = np.array (list (np.arange (9,15,0.1)>0) + list (jp [\":E_exp\"].value > 0) + list (np.arange (30,120,0.1)<0), dtype = bool)\n",
      "    print (new_imf (newmasses, mask = mask, mask_frequency = True))\n",
      "#     for i in np.logical_and (mask, newmasses > 13.1 * u.solMass):\n",
      "#         print (i)\n",
      "#     print (mask)\n",
      "    print (new_imf (newmasses / newmasses, mask = mask))"
     ],
     "language": "python",
     "metadata": {},
     "outputs": [
      {
       "output_type": "stream",
       "stream": "stdout",
       "text": [
        "File o16/fe56 o16/fe56 w/ winds <E_exp> <Remnant Mass>\n",
        "results_n20.0.txt"
       ]
      },
      {
       "output_type": "stream",
       "stream": "stdout",
       "text": [
        " 0.0 0.0 1.1044496000134635e+51 erg 1.7658188213103703 solMass\n",
        "13.49925093937918 solMass\n",
        "0.698789127670372\n",
        "results_w15.0.txt"
       ]
      },
      {
       "output_type": "stream",
       "stream": "stdout",
       "text": [
        " 0.0 0.0 8.206708445024648e+50 erg 1.6957450969316776 solMass\n",
        "12.828202495848302 solMass\n",
        "0.6451640204804605\n",
        "results_w18.0.txt"
       ]
      },
      {
       "output_type": "stream",
       "stream": "stdout",
       "text": [
        " 0.0 0.0 9.190285023130074e+50 erg 1.6806297746497258 solMass\n",
        "13.027218105026943 solMass\n",
        "0.6574527352256498\n",
        "results_w20.0.txt"
       ]
      },
      {
       "output_type": "stream",
       "stream": "stdout",
       "text": [
        " 0.0 0.0 1.0793466213533646e+51 erg 1.6966106374907104 solMass\n",
        "12.027047259401789 solMass\n",
        "0.5555443387716895\n"
       ]
      }
     ],
     "prompt_number": 8
    },
    {
     "cell_type": "code",
     "collapsed": false,
     "input": [
      "import kepler_utils.yields.janka as janka\n",
      "import scipy.interpolate\n",
      "import kepler_utils.yields.yields as yld\n",
      "import kepler_utils.yields.integrator as integrator\n",
      "import astropy.units as u\n",
      "import numpy as np\n",
      "import astropy.constants as consts\n",
      "\n",
      "janka_dir = \"/Users/justinbrown/Dropbox/Research/Stan/links14/\"\n",
      "janka_calibrations = [\"w15.0\", \"w18.0\"]#, \"w20.0\", \"n20.0\"]\n",
      "\n",
      "lower_sn_limit = 8\n",
      "remnant_approximation = \"si\"\n",
      "\n",
      "for calibration in janka_calibrations:\n",
      "    jp = None\n",
      "    jps = []\n",
      "    janka_files = [\"results_low_mass_%s.txt\" % calibration, \"results_%s.txt\" % calibration, \"results_heavy_%s.txt\" % calibration]\n",
      "    for f in janka_files:\n",
      "        jps.append (janka.JankaParser.readFrom (janka_dir + f))\n",
      "        if jp is None:\n",
      "            jp = jps [-1]\n",
      "        else:\n",
      "            jp += jps [-1]\n",
      "\n",
      "    janka_imf = integrator.IMFIntegrator (jp [\":M\"])\n",
      "    \n",
      "    print (\"Calibration: \", calibration)\n",
      "    \n",
      "    print (\"E\", janka_imf (jp [\":E_exp\"], mask = jp [\":E_exp\"] > 0.0 * u.erg, mask_frequency = True))\n",
      "    \n",
      "    print (\"Ni Mass\", janka_imf (jp [\":with_fallback:M_outside(Ni)\"], mask = jp [\":E_exp\"] > 0.0 * u.erg, mask_frequency = True), janka_imf (jp [\":with_fallback:M_outside(Ni)\"] + jp [\":with_fallback:M_outside(Tr)\"], mask = jp [\":E_exp\"] > 0.0 * u.erg, mask_frequency = True))\n",
      "    \n",
      "    newmasses = np.array (list (np.arange (lower_sn_limit,13.6,0.1)) + list (jp [\":M\"].value) + list (np.arange (30,120,1.0))) * u.solMass\n",
      "    new_imf = integrator.IMFIntegrator (newmasses)\n",
      "    mask = np.array (list (np.arange (lower_sn_limit,13.6,0.1)>0) + list (jp [\":E_exp\"].value > 0) + list (np.arange (30,120,1.0)<0), dtype = bool)\n",
      "    print (\"Average SN Mass\", new_imf (newmasses, mask = mask, mask_frequency = True))\n",
      "\n",
      "    print (\"%\", new_imf (newmasses / newmasses, mask = mask), new_imf (newmasses / newmasses, mask = np.logical_and (newmasses > 20.0 * u.solMass, mask)) / new_imf (newmasses / newmasses, mask = newmasses > 20.0 * u.solMass))\n",
      "    print (new_imf (newmasses / newmasses, mask = np.logical_and (newmasses > 20.0 * u.solMass, mask)) / new_imf (newmasses / newmasses, mask = mask))\n",
      "    \n",
      "    wdata = np.genfromtxt (\"../wcores.dat\", names = True)\n",
      "    w_imf = integrator.IMFIntegrator (wdata [\"Minit\"])\n",
      "    w_remnants = wdata [remnant_approximation] * u.solMass\n",
      "        \n",
      "    baryonic_masses = u.Quantity (list (w_remnants) + list (jp [\":with_fallback:M_mass_cut_after_fb\"]))\n",
      "    \n",
      "    baryonic_masses [baryonic_masses > 2.5 * u.solMass] = 0. * u.solMass\n",
      "    integrated_baryonic_mass = (w_imf + janka_imf) (baryonic_masses, mask = baryonic_masses > 0.0 * u.solMass, mask_frequency = True)\n",
      "    print (\"M_remnant\", integrated_baryonic_mass, integrated_baryonic_mass * (1 - 3.0 / 5.0 * consts.G * integrated_baryonic_mass / (12 * u.km * consts.c ** 2)))\n",
      "    \n",
      "#     full_imf = integrator.IMFIntegrator (np.arange (9,15,0.1) * u.solMass)) + \n",
      "    \n",
      "#     mask = np.array (list (np.arange (9,15,0.1)>0) + list (jp [\":E_exp\"].value > 0)), dtype = bool)\n",
      "#     print (new_imf (newmasses, mask = mask, mask_frequency = True))\n",
      "#     print (new_imf (newmasses / newmasses, mask = mask))"
     ],
     "language": "python",
     "metadata": {},
     "outputs": [
      {
       "output_type": "stream",
       "stream": "stdout",
       "text": [
        "('Calibration: ', 'w15.0')\n",
        "('E', <Quantity 8.928865597973748e+50 erg>)\n",
        "('Ni Mass', <Quantity 0.06035905535039554 solMass>, <Quantity 0.06841570301800048 solMass>)"
       ]
      },
      {
       "output_type": "stream",
       "stream": "stdout",
       "text": [
        "\n",
        "('Average SN Mass', <Quantity 14.59689173719573 solMass>)\n",
        "('%', <Quantity 0.7103173210947495>, <Quantity 0.10431163434647052>)\n",
        "0.0609379693374\n",
        "('M_remnant', <Quantity 1.5623374332332907 solMass>, <Quantity 1.3820727360244658 solMass>)"
       ]
      },
      {
       "output_type": "stream",
       "stream": "stdout",
       "text": [
        "\n",
        "('Calibration: ', 'w18.0')"
       ]
      },
      {
       "output_type": "stream",
       "stream": "stdout",
       "text": [
        "\n",
        "('E', <Quantity 9.91361652120022e+50 erg>)\n",
        "('Ni Mass', <Quantity 0.06770154491063565 solMass>, <Quantity 0.07859469587132083 solMass>)"
       ]
      },
      {
       "output_type": "stream",
       "stream": "stdout",
       "text": [
        "\n",
        "('Average SN Mass', <Quantity 14.775400056200407 solMass>)"
       ]
      },
      {
       "output_type": "stream",
       "stream": "stdout",
       "text": [
        "\n",
        "('%', <Quantity 0.7207777576766516>, <Quantity 0.12275095783150296>)\n",
        "0.0706693580589\n",
        "('M_remnant', <Quantity 1.5657751974171912 solMass>, <Quantity 1.3847163192483674 solMass>)"
       ]
      },
      {
       "output_type": "stream",
       "stream": "stdout",
       "text": [
        "\n"
       ]
      }
     ],
     "prompt_number": 1
    },
    {
     "cell_type": "code",
     "collapsed": false,
     "input": [
      "import numpy as np"
     ],
     "language": "python",
     "metadata": {},
     "outputs": [],
     "prompt_number": 1
    },
    {
     "cell_type": "code",
     "collapsed": false,
     "input": [
      "from kepler_utils.yields.yields import YieldReader\n",
      "from kepler_utils.yields.integrator import IMFIntegrator, Integrator\n",
      "import astropy.units as u\n",
      "import numpy as np\n",
      "\n",
      "from kepler_utils.plots.yields import YieldPlot\n"
     ],
     "language": "python",
     "metadata": {},
     "outputs": [],
     "prompt_number": 2
    },
    {
     "cell_type": "code",
     "collapsed": false,
     "input": [
      "n20yr = YieldReader (directory = \"../yields/y_data_N20_special_13x6_120/\", masses = np.array (list (np.arange (13.6, 30.0, 0.1)) + [31, 32, 33, 35, 40, 45, 50, 55, 60, 70, 80, 100, 120]) * u.solMass, winds = False)\n",
      "w18yr = YieldReader (directory = \"../yields/y_data_W18_special_13x6_14x9/\", masses = np.arange (13.6, 14.9, 0.1) * u.solMass, winds = False)\n",
      "w18yr += YieldReader (directory = \"../yields/y_data_W18_special_15x0_30x0/\", masses = np.arange (15.0, 30.0, 0.1) * u.solMass, winds = False)\n",
      "w18yr += YieldReader (directory = \"../yields/y_data_W18_special_31_120/\", masses = np.array ([31, 32, 33, 35, 40, 45, 50, 55, 60, 70, 80, 100, 120]) * u.solMass, winds = False)\n",
      "whyr = YieldReader (directory = \"../yields/wh07/\", explosions = False)"
     ],
     "language": "python",
     "metadata": {},
     "outputs": [],
     "prompt_number": 9
    },
    {
     "cell_type": "code",
     "collapsed": false,
     "input": [
      "import matplotlib.pyplot as plt\n",
      "%matplotlib inline\n",
      "\n",
      "fig, ax = plt.subplots (1, 1)\n",
      "\n",
      "iso = \"mg24\"\n",
      "ax.plot (w18yr.masses.to (u.solMass) [w18yr.get_yield (iso) > 0.0 * u.solMass], w18yr.get_yield (iso) [w18yr.get_yield (iso) > 0.0 * u.solMass])\n",
      "ax.plot (whyr.masses.to (u.solMass), whyr.get_yield (iso))\n",
      "# ax.set_yscale (\"log\")\n",
      "\n",
      "ax.set_xlim ((15, 35))"
     ],
     "language": "python",
     "metadata": {},
     "outputs": [
      {
       "metadata": {},
       "output_type": "pyout",
       "prompt_number": 20,
       "text": [
        "(15, 35)"
       ]
      },
      {
       "metadata": {},
       "output_type": "display_data",
       "png": "[encoded data removed]",
       "text": [
        "<matplotlib.figure.Figure at 0x1171a40d0>"
       ]
      }
     ],
     "prompt_number": 20
    },
    {
     "cell_type": "code",
     "collapsed": false,
     "input": [
      "baryonic_masses = u.Quantity (list (w_remnants) + list (jp [\":with_fallback:M_mass_cut_after_fb\"]))\n",
      "\n",
      "baryonic_masses [baryonic_masses > 2.5 * u.solMass] = 0. * u.solMass\n",
      "numbers = (w_imf + janka_imf).freq [baryonic_masses > 0.0 * u.solMass]"
     ],
     "language": "python",
     "metadata": {},
     "outputs": [],
     "prompt_number": 18
    },
    {
     "cell_type": "code",
     "collapsed": false,
     "input": [
      "tohist = [x for sublist in [[mass] * int (number) for mass, number in zip (baryonic_masses [baryonic_masses > 0.0 * u.solMass], numbers * 1000)] for x in sublist]"
     ],
     "language": "python",
     "metadata": {},
     "outputs": [],
     "prompt_number": 19
    },
    {
     "cell_type": "code",
     "collapsed": false,
     "input": [
      "import matplotlib.pyplot as plt\n",
      "%matplotlib inline\n",
      "\n",
      "num, bins, patches = plt.hist (u.Quantity (tohist), 50)"
     ],
     "language": "python",
     "metadata": {},
     "outputs": [
      {
       "metadata": {},
       "output_type": "display_data",
       "png": "[encoded data removed]",
       "text": [
        "<matplotlib.figure.Figure at 0x113797cd0>"
       ]
      }
     ],
     "prompt_number": 30
    },
    {
     "cell_type": "code",
     "collapsed": false,
     "input": [
      "l = plt.plot(bins, y, 'r--', linewidth=1)"
     ],
     "language": "python",
     "metadata": {},
     "outputs": [
      {
       "metadata": {},
       "output_type": "pyout",
       "prompt_number": 24,
       "text": [
        "668.87133803603842"
       ]
      }
     ],
     "prompt_number": 24
    },
    {
     "cell_type": "code",
     "collapsed": false,
     "input": [],
     "language": "python",
     "metadata": {},
     "outputs": []
    }
   ],
   "metadata": {}
  }
 ]
}