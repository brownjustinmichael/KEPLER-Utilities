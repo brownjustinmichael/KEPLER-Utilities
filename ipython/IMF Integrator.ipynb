{
 "metadata": {
  "name": "",
  "signature": "sha256:7e79cc498558ffbda96999895c5ae96dcbf8144e622a33be9ae9180408fed0e0"
 },
 "nbformat": 3,
 "nbformat_minor": 0,
 "worksheets": [
  {
   "cells": [
    {
     "cell_type": "code",
     "collapsed": false,
     "input": [
      "import yields.janka as janka\n",
      "import scipy.interpolate\n",
      "import yields.yields as yld\n",
      "import yields.integrator as integrator\n",
      "import astropy.units as u\n",
      "import numpy as np\n",
      "\n",
      "janka_dir = \"/Users/justinbrown/Dropbox/Research/Stan/links14/\"\n",
      "janka_files = [\"results_n20.0.txt\", \"results_w15.0.txt\", \"results_w18.0.txt\", \"results_w20.0.txt\"]\n",
      "\n",
      "yr = yld.YieldReader ()\n",
      "wh_imf = integrator.IMFIntegrator (yr.get_masses ())\n",
      "masses = yr.get_masses ()\n",
      "\n",
      "imf = integrator.IMFIntegrator (masses)\n",
      "\n",
      "print (\"File\", \"o16/fe56\", \"o16/fe56 w/ winds\", \"<E_exp>\", \"<Remnant Mass>\")\n",
      "jps = {}\n",
      "without_winds = {}\n",
      "with_winds = {}\n",
      "e_exp = {}\n",
      "neutron_star = {}\n",
      "for f in janka_files:\n",
      "    jp = janka.JankaParser (janka_dir + f)\n",
      "    jps [f] = jp\n",
      "    janka_imf = integrator.IMFIntegrator (jp [\":M\"])\n",
      "    \n",
      "#     ni_interp = scipy.interpolate.interp1d (jp [\":M\"], jp [\":with_fallback:M_outside(Ni)\"], bounds_error = False, fill_value = 0.0)\n",
      "#     total_ni56 = ni_interp (masses.to (u.solMass)) * u.solMass\n",
      "    \n",
      "#     mask = np.logical_and (total_ni56 > 0.0 * u.solMass, masses >= 15.0 * u.solMass, masses <= 30.0 * u.solMass)\n",
      "#     without_winds [f] = imf (total_o16, mask = mask).to (u.solMass) / imf (total_ni56, mask = mask)\n",
      "#     with_winds [f] = (imf (total_o16, mask = mask).to (u.solMass) + wh_imf (yr.get_winds ('o16'))) / (imf (total_ni56, mask = mask).to (u.solMass) + wh_imf (yr.get_winds ('fe56')))\n",
      "    \n",
      "    e_exp [f] = janka_imf (jp [\":E_exp\"], mask = jp [\":E_exp\"] > 0.0 * u.erg, mask_frequency = True)\n",
      "    neutron_star [f] = janka_imf (jp [\":with_fallback:M_mass_cut_after_fb\"], mask = np.logical_and (jp [\":E_exp\"] > 0.0 * u.erg, np.logical_or (jp [\":M\"] < 27.2 * u.solMass, jp [\":M\"] > 27.3 * u.solMass)), mask_frequency = True)\n",
      "    \n",
      "#     print (f, without_winds [f], with_winds [f], e_exp [f], neutron_star [f])\n",
      "\n",
      "    print (f, 0.0, 0.0, e_exp [f], neutron_star [f])\n",
      "\n",
      "    newmasses = np.array (list (np.arange (9,15,0.1)) + list (jp [\":M\"].value) + list (np.arange (30,120,0.1))) * u.solMass\n",
      "    new_imf = integrator.IMFIntegrator (newmasses)\n",
      "    mask = np.array (list (np.arange (9,15,0.1)>0) + list (jp [\":E_exp\"].value > 0) + list (np.arange (30,120,0.1)<0), dtype = bool)\n",
      "    print (new_imf (newmasses, mask = mask, mask_frequency = True))\n",
      "#     for i in np.logical_and (mask, newmasses > 13.1 * u.solMass):\n",
      "#         print (i)\n",
      "#     print (mask)\n",
      "    print (new_imf (newmasses / newmasses, mask = mask))"
     ],
     "language": "python",
     "metadata": {},
     "outputs": [
      {
       "output_type": "stream",
       "stream": "stdout",
       "text": [
        "File o16/fe56 o16/fe56 w/ winds <E_exp> <Remnant Mass>\n",
        "results_n20.0.txt"
       ]
      },
      {
       "output_type": "stream",
       "stream": "stdout",
       "text": [
        " 0.0 0.0 1.1044496000134635e+51 erg 1.7658188213103703 solMass\n",
        "13.49925093937918 solMass\n",
        "0.698789127670372\n",
        "results_w15.0.txt"
       ]
      },
      {
       "output_type": "stream",
       "stream": "stdout",
       "text": [
        " 0.0 0.0 8.206708445024648e+50 erg 1.6957450969316776 solMass\n",
        "12.828202495848302 solMass\n",
        "0.6451640204804605\n",
        "results_w18.0.txt"
       ]
      },
      {
       "output_type": "stream",
       "stream": "stdout",
       "text": [
        " 0.0 0.0 9.190285023130074e+50 erg 1.6806297746497258 solMass\n",
        "13.027218105026943 solMass\n",
        "0.6574527352256498\n",
        "results_w20.0.txt"
       ]
      },
      {
       "output_type": "stream",
       "stream": "stdout",
       "text": [
        " 0.0 0.0 1.0793466213533646e+51 erg 1.6966106374907104 solMass\n",
        "12.027047259401789 solMass\n",
        "0.5555443387716895\n"
       ]
      }
     ],
     "prompt_number": 8
    },
    {
     "cell_type": "code",
     "collapsed": false,
     "input": [
      "import kepler_utils.yields.janka as janka\n",
      "import scipy.interpolate\n",
      "import kepler_utils.yields.yields as yld\n",
      "import kepler_utils.yields.integrator as integrator\n",
      "import astropy.units as u\n",
      "import numpy as np\n",
      "import astropy.constants as consts\n",
      "\n",
      "janka_dir = \"/Users/justinbrown/Dropbox/Research/Stan/links14/\"\n",
      "janka_calibrations = [\"w15.0\", \"w18.0\", \"w20.0\", \"n20.0\"]\n",
      "\n",
      "for calibration in janka_calibrations:\n",
      "    jp = None\n",
      "    jps = []\n",
      "    janka_files = [\"results_low_mass_%s.txt\" % calibration, \"results_%s.txt\" % calibration, \"results_heavy_%s.txt\" % calibration]\n",
      "    for f in janka_files:\n",
      "        jps.append (janka.JankaParser.readFrom (janka_dir + f))\n",
      "        if jp is None:\n",
      "            jp = jps [-1]\n",
      "        else:\n",
      "            jp += jps [-1]\n",
      "\n",
      "    janka_imf = integrator.IMFIntegrator (jp [\":M\"])\n",
      "    \n",
      "    print (\"Calibration: \", calibration)\n",
      "    \n",
      "    print (\"E\", janka_imf (jp [\":E_exp\"], mask = jp [\":E_exp\"] > 0.0 * u.erg, mask_frequency = True))\n",
      "    baryonic_masses = jp [\":with_fallback:M_mass_cut_after_fb\"]\n",
      "    baryonic_masses [baryonic_masses > 2.5 * u.solMass] = 0. * u.solMass\n",
      "    integrated_baryonic_mass = janka_imf (baryonic_masses, mask = jp [\":E_exp\"] > 0.0 * u.erg, mask_frequency = True)\n",
      "    print (\"M_remnant\", integrated_baryonic_mass, integrated_baryonic_mass * (1 - 3.0 / 5.0 * consts.G * integrated_baryonic_mass / (12 * u.km * consts.c ** 2)))\n",
      "    \n",
      "#     full_imf = integrator.IMFIntegrator (np.arange (9,15,0.1) * u.solMass)) + \n",
      "    \n",
      "#     mask = np.array (list (np.arange (9,15,0.1)>0) + list (jp [\":E_exp\"].value > 0)), dtype = bool)\n",
      "#     print (new_imf (newmasses, mask = mask, mask_frequency = True))\n",
      "#     print (new_imf (newmasses / newmasses, mask = mask))"
     ],
     "language": "python",
     "metadata": {},
     "outputs": [
      {
       "output_type": "stream",
       "stream": "stdout",
       "text": [
        "Calibration:  w15.0\n",
        "E 8.928865597973748e+50 erg\n",
        "M_remnant 1.6076890237484374 solMass 1.4168069696471828 solMass\n",
        "Calibration: "
       ]
      },
      {
       "output_type": "stream",
       "stream": "stdout",
       "text": [
        " w18.0\n",
        "E 9.91361652120022e+50 erg\n",
        "M_remnant 1.7011767872348273 solMass 1.4874495348588808 solMass\n",
        "Calibration: "
       ]
      },
      {
       "output_type": "stream",
       "stream": "stdout",
       "text": [
        " w20.0\n",
        "E 1.0622399178339043e+51 erg\n",
        "M_remnant 1.7604637657308024 solMass 1.5315798957417115 solMass\n",
        "Calibration: "
       ]
      },
      {
       "output_type": "stream",
       "stream": "stdout",
       "text": [
        " n20.0\n",
        "E 1.1097485481024623e+51 erg\n",
        "M_remnant 1.6838943325255076 solMass 1.4744875823579409 solMass\n"
       ]
      }
     ],
     "prompt_number": 1
    },
    {
     "cell_type": "code",
     "collapsed": false,
     "input": [
      "jp.calibration"
     ],
     "language": "python",
     "metadata": {},
     "outputs": [
      {
       "metadata": {},
       "output_type": "pyout",
       "prompt_number": 2,
       "text": [
        "'n20.0'"
       ]
      }
     ],
     "prompt_number": 2
    },
    {
     "cell_type": "code",
     "collapsed": false,
     "input": [
      "jps"
     ],
     "language": "python",
     "metadata": {},
     "outputs": [
      {
       "metadata": {},
       "output_type": "pyout",
       "prompt_number": 3,
       "text": [
        "[<kepler_utils.yields.janka.JankaParser at 0x113b2d0b8>,\n",
        " <kepler_utils.yields.janka.JankaParser at 0x1149d52e8>,\n",
        " <kepler_utils.yields.janka.JankaParser at 0x1149d5be0>]"
       ]
      }
     ],
     "prompt_number": 3
    },
    {
     "cell_type": "code",
     "collapsed": false,
     "input": [
      "imfs = []\n",
      "for jp in jps:\n",
      "    imfs.append (integrator.IMFIntegrator (jp [\":M\"]))"
     ],
     "language": "python",
     "metadata": {},
     "outputs": [],
     "prompt_number": 4
    },
    {
     "cell_type": "code",
     "collapsed": false,
     "input": [
      "imfs"
     ],
     "language": "python",
     "metadata": {},
     "outputs": [
      {
       "metadata": {},
       "output_type": "pyout",
       "prompt_number": 5,
       "text": [
        "[<kepler_utils.yields.integrator.IMFIntegrator at 0x111aa6a90>,\n",
        " <kepler_utils.yields.integrator.IMFIntegrator at 0x111a86f98>,\n",
        " <kepler_utils.yields.integrator.IMFIntegrator at 0x111aa6438>]"
       ]
      }
     ],
     "prompt_number": 5
    },
    {
     "cell_type": "code",
     "collapsed": false,
     "input": [
      "imfsum = imfs [0] + imfs [1] + imfs [2]"
     ],
     "language": "python",
     "metadata": {},
     "outputs": [],
     "prompt_number": 6
    },
    {
     "cell_type": "code",
     "collapsed": false,
     "input": [
      "imfsum.freq"
     ],
     "language": "python",
     "metadata": {},
     "outputs": [
      {
       "metadata": {},
       "output_type": "pyout",
       "prompt_number": 7,
       "text": [
        "array([ 0.010391  ,  0.01021428,  0.01004181,  0.00987346,  0.00970911,\n",
        "        0.00954863,  0.0093919 ,  0.00923882,  0.00908927,  0.00894314,\n",
        "        0.00880034,  0.00866077,  0.00852434,  0.00839095,  0.00826051,\n",
        "        0.00813295,  0.00800817,  0.00788611,  0.00776668,  0.00764981,\n",
        "        0.00753544,  0.00742348,  0.00731389,  0.00720658,  0.00710151,\n",
        "        0.0069986 ,  0.00689781,  0.00679908,  0.00670235,  0.00660756,\n",
        "        0.00651468,  0.00642365,  0.00633442,  0.00624694,  0.00616118,\n",
        "        0.00607709,  0.00599462,  0.00591374,  0.00583441,  0.00575658,\n",
        "        0.00568023,  0.00560531,  0.00553179,  0.00545964,  0.00538883,\n",
        "        0.00531931,  0.00525107,  0.00518407,  0.00511828,  0.00505368,\n",
        "        0.00499023,  0.00492791,  0.00486669,  0.00480655,  0.00474747,\n",
        "        0.00468941,  0.00463237,  0.0045763 ,  0.0045212 ,  0.00446704,\n",
        "        0.0044138 ,  0.00436146,  0.00431001,  0.00425941,  0.00420965,\n",
        "        0.00416072,  0.0041126 ,  0.00406526,  0.0040187 ,  0.00397289,\n",
        "        0.00392783,  0.00388349,  0.00383986,  0.00379693,  0.00375467,\n",
        "        0.00371309,  0.00367216,  0.00363186,  0.0035922 ,  0.00355315,\n",
        "        0.0035147 ,  0.00347684,  0.00343956,  0.00340285,  0.0033667 ,\n",
        "        0.00333109,  0.00329601,  0.00326146,  0.00322742,  0.00319389,\n",
        "        0.00316085,  0.0031283 ,  0.00309622,  0.00306461,  0.00303345,\n",
        "        0.00300275,  0.00297249,  0.00294266,  0.00291325,  0.00288427,\n",
        "        0.00285569,  0.00282751,  0.00279973,  0.00277234,  0.00274532,\n",
        "        0.00271868,  0.00269241,  0.0026665 ,  0.00264094,  0.00261573,\n",
        "        0.00259086,  0.00256633,  0.00254212,  0.00251824,  0.00249468,\n",
        "        0.00247144,  0.0024485 ,  0.00242586,  0.00240352,  0.00238147,\n",
        "        0.00235971,  0.00233823,  0.00231703,  0.0022961 ,  0.00227544,\n",
        "        0.00225504,  0.00223491,  0.00221503,  0.0021954 ,  0.00217601,\n",
        "        0.00215687,  0.00213797,  0.00211931,  0.00210088,  0.00208267,\n",
        "        0.00206469,  0.00204693,  0.00202938,  0.00201205,  0.00199493,\n",
        "        0.00197802,  0.00196131,  0.0019448 ,  0.00192848,  0.00191237,\n",
        "        0.00189644,  0.0018807 ,  0.00186515,  0.00184978,  0.00183459,\n",
        "        0.00181958,  0.00180474,  0.00179007,  0.00177557,  0.00176124,\n",
        "        0.00174708,  0.00173307,  0.00171923,  0.00170554,  0.00169201,\n",
        "        0.00167863,  0.0016654 ,  0.00165232,  0.00163938,  0.01571303,\n",
        "        0.01456549,  0.01353382,  0.02436459,  0.04861231,  0.03617784,\n",
        "        0.02783121,  0.02198369,  0.01774354,  0.02674527,  0.01907022,\n",
        "        0.02511024,  0.01558468,  0.        ])"
       ]
      }
     ],
     "prompt_number": 7
    },
    {
     "cell_type": "code",
     "collapsed": false,
     "input": [
      "imfsum"
     ],
     "language": "python",
     "metadata": {},
     "outputs": [
      {
       "metadata": {},
       "output_type": "pyout",
       "prompt_number": 8,
       "text": [
        "<kepler_utils.yields.integrator.IMFIntegrator at 0x111a7f630>"
       ]
      }
     ],
     "prompt_number": 8
    },
    {
     "cell_type": "code",
     "collapsed": false,
     "input": [
      "imfs [2].masses"
     ],
     "language": "python",
     "metadata": {},
     "outputs": [
      {
       "metadata": {},
       "output_type": "pyout",
       "prompt_number": 9,
       "text": [
        "<Quantity [  31.,  32.,  33.,  35.,  40.,  45.,  50.,  55.,  60.,  70.,\n",
        "             80., 100., 120.] solMass>"
       ]
      }
     ],
     "prompt_number": 9
    },
    {
     "cell_type": "code",
     "collapsed": false,
     "input": [
      "jp = jps [0] + jps [1] + jps [2]"
     ],
     "language": "python",
     "metadata": {},
     "outputs": [],
     "prompt_number": 10
    },
    {
     "cell_type": "code",
     "collapsed": false,
     "input": [
      "integrator.IMFIntegrator (jp [\":M\"]).freq"
     ],
     "language": "python",
     "metadata": {},
     "outputs": [
      {
       "metadata": {},
       "output_type": "pyout",
       "prompt_number": 11,
       "text": [
        "array([ 0.010391  ,  0.01021428,  0.01004181,  0.00987346,  0.00970911,\n",
        "        0.00954863,  0.0093919 ,  0.00923882,  0.00908927,  0.00894314,\n",
        "        0.00880034,  0.00866077,  0.00852434,  0.00839095,  0.00826051,\n",
        "        0.00813295,  0.00800817,  0.00788611,  0.00776668,  0.00764981,\n",
        "        0.00753544,  0.00742348,  0.00731389,  0.00720658,  0.00710151,\n",
        "        0.0069986 ,  0.00689781,  0.00679908,  0.00670235,  0.00660756,\n",
        "        0.00651468,  0.00642365,  0.00633442,  0.00624694,  0.00616118,\n",
        "        0.00607709,  0.00599462,  0.00591374,  0.00583441,  0.00575658,\n",
        "        0.00568023,  0.00560531,  0.00553179,  0.00545964,  0.00538883,\n",
        "        0.00531931,  0.00525107,  0.00518407,  0.00511828,  0.00505368,\n",
        "        0.00499023,  0.00492791,  0.00486669,  0.00480655,  0.00474747,\n",
        "        0.00468941,  0.00463237,  0.0045763 ,  0.0045212 ,  0.00446704,\n",
        "        0.0044138 ,  0.00436146,  0.00431001,  0.00425941,  0.00420965,\n",
        "        0.00416072,  0.0041126 ,  0.00406526,  0.0040187 ,  0.00397289,\n",
        "        0.00392783,  0.00388349,  0.00383986,  0.00379693,  0.00375467,\n",
        "        0.00371309,  0.00367216,  0.00363186,  0.0035922 ,  0.00355315,\n",
        "        0.0035147 ,  0.00347684,  0.00343956,  0.00340285,  0.0033667 ,\n",
        "        0.00333109,  0.00329601,  0.00326146,  0.00322742,  0.00319389,\n",
        "        0.00316085,  0.0031283 ,  0.00309622,  0.00306461,  0.00303345,\n",
        "        0.00300275,  0.00297249,  0.00294266,  0.00291325,  0.00288427,\n",
        "        0.00285569,  0.00282751,  0.00279973,  0.00277234,  0.00274532,\n",
        "        0.00271868,  0.00269241,  0.0026665 ,  0.00264094,  0.00261573,\n",
        "        0.00259086,  0.00256633,  0.00254212,  0.00251824,  0.00249468,\n",
        "        0.00247144,  0.0024485 ,  0.00242586,  0.00240352,  0.00238147,\n",
        "        0.00235971,  0.00233823,  0.00231703,  0.0022961 ,  0.00227544,\n",
        "        0.00225504,  0.00223491,  0.00221503,  0.0021954 ,  0.00217601,\n",
        "        0.00215687,  0.00213797,  0.00211931,  0.00210088,  0.00208267,\n",
        "        0.00206469,  0.00204693,  0.00202938,  0.00201205,  0.00199493,\n",
        "        0.00197802,  0.00196131,  0.0019448 ,  0.00192848,  0.00191237,\n",
        "        0.00189644,  0.0018807 ,  0.00186515,  0.00184978,  0.00183459,\n",
        "        0.00181958,  0.00180474,  0.00179007,  0.00177557,  0.00176124,\n",
        "        0.00174708,  0.00173307,  0.00171923,  0.00170554,  0.00169201,\n",
        "        0.00167863,  0.0016654 ,  0.00165232,  0.00163938,  0.01571303,\n",
        "        0.01456549,  0.01353382,  0.02436459,  0.04861231,  0.03617784,\n",
        "        0.02783121,  0.02198369,  0.01774354,  0.02674527,  0.01907022,\n",
        "        0.02511024,  0.01558468,  0.        ])"
       ]
      }
     ],
     "prompt_number": 11
    },
    {
     "cell_type": "code",
     "collapsed": false,
     "input": [],
     "language": "python",
     "metadata": {},
     "outputs": []
    }
   ],
   "metadata": {}
  }
 ]
}