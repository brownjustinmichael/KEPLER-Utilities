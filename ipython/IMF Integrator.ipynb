{
 "metadata": {
  "name": "",
  "signature": "sha256:c2b2480407d269bdab238aba6ab803837187c3277487d3b9af1983ff087e4d06"
 },
 "nbformat": 3,
 "nbformat_minor": 0,
 "worksheets": [
  {
   "cells": [
    {
     "cell_type": "code",
     "collapsed": false,
     "input": [
      "import yields.janka as janka\n",
      "import scipy.interpolate\n",
      "import yields.yields as yld\n",
      "import yields.integrator as integrator\n",
      "import astropy.units as u\n",
      "import numpy as np\n",
      "\n",
      "janka_dir = \"/Users/justinbrown/Dropbox/Research/Stan/links14/\"\n",
      "janka_files = [\"results_n20.0.txt\", \"results_w15.0.txt\", \"results_w18.0.txt\", \"results_w20.0.txt\"]\n",
      "\n",
      "yr = yld.YieldReader ()\n",
      "wh_imf = integrator.IMFIntegrator (yr.get_masses ())\n",
      "masses = yr.get_masses ()\n",
      "\n",
      "imf = integrator.IMFIntegrator (masses)\n",
      "\n",
      "print (\"File\", \"o16/fe56\", \"o16/fe56 w/ winds\", \"<E_exp>\", \"<Remnant Mass>\")\n",
      "jps = {}\n",
      "without_winds = {}\n",
      "with_winds = {}\n",
      "e_exp = {}\n",
      "neutron_star = {}\n",
      "for f in janka_files:\n",
      "    jp = janka.JankaParser (janka_dir + f)\n",
      "    jps [f] = jp\n",
      "    janka_imf = integrator.IMFIntegrator (jp [\":M\"])\n",
      "    \n",
      "#     ni_interp = scipy.interpolate.interp1d (jp [\":M\"], jp [\":with_fallback:M_outside(Ni)\"], bounds_error = False, fill_value = 0.0)\n",
      "#     total_ni56 = ni_interp (masses.to (u.solMass)) * u.solMass\n",
      "    \n",
      "#     mask = np.logical_and (total_ni56 > 0.0 * u.solMass, masses >= 15.0 * u.solMass, masses <= 30.0 * u.solMass)\n",
      "#     without_winds [f] = imf (total_o16, mask = mask).to (u.solMass) / imf (total_ni56, mask = mask)\n",
      "#     with_winds [f] = (imf (total_o16, mask = mask).to (u.solMass) + wh_imf (yr.get_winds ('o16'))) / (imf (total_ni56, mask = mask).to (u.solMass) + wh_imf (yr.get_winds ('fe56')))\n",
      "    \n",
      "    e_exp [f] = janka_imf (jp [\":E_exp\"], mask = jp [\":E_exp\"] > 0.0 * u.erg, mask_frequency = True)\n",
      "    neutron_star [f] = janka_imf (jp [\":with_fallback:M_mass_cut_after_fb\"], mask = np.logical_and (jp [\":E_exp\"] > 0.0 * u.erg, np.logical_or (jp [\":M\"] < 27.2 * u.solMass, jp [\":M\"] > 27.3 * u.solMass)), mask_frequency = True)\n",
      "    \n",
      "#     print (f, without_winds [f], with_winds [f], e_exp [f], neutron_star [f])\n",
      "\n",
      "    print (f, 0.0, 0.0, e_exp [f], neutron_star [f])\n",
      "\n",
      "    newmasses = np.array (list (np.arange (9,15,0.1)) + list (jp [\":M\"].value) + list (np.arange (30,120,0.1))) * u.solMass\n",
      "    new_imf = integrator.IMFIntegrator (newmasses)\n",
      "    mask = np.array (list (np.arange (9,15,0.1)>0) + list (jp [\":E_exp\"].value > 0) + list (np.arange (30,120,0.1)<0), dtype = bool)\n",
      "    print (new_imf (newmasses, mask = mask, mask_frequency = True))\n",
      "#     for i in np.logical_and (mask, newmasses > 13.1 * u.solMass):\n",
      "#         print (i)\n",
      "#     print (mask)\n",
      "    print (new_imf (newmasses / newmasses, mask = mask))"
     ],
     "language": "python",
     "metadata": {},
     "outputs": [
      {
       "output_type": "stream",
       "stream": "stdout",
       "text": [
        "File o16/fe56 o16/fe56 w/ winds <E_exp> <Remnant Mass>\n",
        "results_n20.0.txt"
       ]
      },
      {
       "output_type": "stream",
       "stream": "stdout",
       "text": [
        " 0.0 0.0 1.1044496000134635e+51 erg 1.7658188213103703 solMass\n",
        "13.49925093937918 solMass\n",
        "0.698789127670372\n",
        "results_w15.0.txt"
       ]
      },
      {
       "output_type": "stream",
       "stream": "stdout",
       "text": [
        " 0.0 0.0 8.206708445024648e+50 erg 1.6957450969316776 solMass\n",
        "12.828202495848302 solMass\n",
        "0.6451640204804605\n",
        "results_w18.0.txt"
       ]
      },
      {
       "output_type": "stream",
       "stream": "stdout",
       "text": [
        " 0.0 0.0 9.190285023130074e+50 erg 1.6806297746497258 solMass\n",
        "13.027218105026943 solMass\n",
        "0.6574527352256498\n",
        "results_w20.0.txt"
       ]
      },
      {
       "output_type": "stream",
       "stream": "stdout",
       "text": [
        " 0.0 0.0 1.0793466213533646e+51 erg 1.6966106374907104 solMass\n",
        "12.027047259401789 solMass\n",
        "0.5555443387716895\n"
       ]
      }
     ],
     "prompt_number": 8
    },
    {
     "cell_type": "code",
     "collapsed": false,
     "input": [
      "import kepler_utils.yields.janka as janka\n",
      "import scipy.interpolate\n",
      "import kepler_utils.yields.yields as yld\n",
      "import kepler_utils.yields.integrator as integrator\n",
      "import astropy.units as u\n",
      "import numpy as np\n",
      "import astropy.constants as consts\n",
      "\n",
      "janka_dir = \"/Users/justinbrown/Dropbox/Research/Stan/links14/\"\n",
      "janka_calibrations = [\"w15.0\", \"w18.0\"]#, \"w20.0\", \"n20.0\"]\n",
      "\n",
      "lower_sn_limit = 8\n",
      "remnant_approximation = \"si\"\n",
      "\n",
      "for calibration in janka_calibrations:\n",
      "    jp = None\n",
      "    jps = []\n",
      "    janka_files = [\"results_low_mass_%s.txt\" % calibration, \"results_%s.txt\" % calibration, \"results_heavy_%s.txt\" % calibration]\n",
      "    for f in janka_files:\n",
      "        jps.append (janka.JankaParser.readFrom (janka_dir + f))\n",
      "        if jp is None:\n",
      "            jp = jps [-1]\n",
      "        else:\n",
      "            jp += jps [-1]\n",
      "\n",
      "    janka_imf = integrator.IMFIntegrator (jp [\":M\"])\n",
      "    \n",
      "    print (\"Calibration: \", calibration)\n",
      "    \n",
      "    print (\"E\", janka_imf (jp [\":E_exp\"], mask = jp [\":E_exp\"] > 0.0 * u.erg, mask_frequency = True))\n",
      "    \n",
      "    print (\"Ni Mass\", janka_imf (jp [\":with_fallback:M_outside(Ni)\"], mask = jp [\":E_exp\"] > 0.0 * u.erg, mask_frequency = True), janka_imf (jp [\":with_fallback:M_outside(Ni)\"] + jp [\":with_fallback:M_outside(Tr)\"], mask = jp [\":E_exp\"] > 0.0 * u.erg, mask_frequency = True))\n",
      "    \n",
      "    newmasses = np.array (list (np.arange (lower_sn_limit,13.6,0.1)) + list (jp [\":M\"].value) + list (np.arange (30,120,1.0))) * u.solMass\n",
      "    new_imf = integrator.IMFIntegrator (newmasses)\n",
      "    mask = np.array (list (np.arange (lower_sn_limit,13.6,0.1)>0) + list (jp [\":E_exp\"].value > 0) + list (np.arange (30,120,1.0)<0), dtype = bool)\n",
      "    print (\"Average SN Mass\", new_imf (newmasses, mask = mask, mask_frequency = True))\n",
      "\n",
      "    print (\"%\", new_imf (newmasses / newmasses, mask = mask), new_imf (newmasses / newmasses, mask = np.logical_and (newmasses > 20.0 * u.solMass, mask)) / new_imf (newmasses / newmasses, mask = newmasses > 20.0 * u.solMass))\n",
      "    print (new_imf (newmasses / newmasses, mask = np.logical_and (newmasses > 20.0 * u.solMass, mask)) / new_imf (newmasses / newmasses, mask = mask))\n",
      "    \n",
      "    wdata = np.genfromtxt (\"../wcores.dat\", names = True)\n",
      "    w_imf = integrator.IMFIntegrator (wdata [\"Minit\"])\n",
      "    w_remnants = wdata [remnant_approximation] * u.solMass\n",
      "        \n",
      "    baryonic_masses = u.Quantity (list (w_remnants) + list (jp [\":with_fallback:M_mass_cut_after_fb\"]))\n",
      "    \n",
      "    baryonic_masses [baryonic_masses > 2.5 * u.solMass] = 0. * u.solMass\n",
      "    integrated_baryonic_mass = (w_imf + janka_imf) (baryonic_masses, mask = baryonic_masses > 0.0 * u.solMass, mask_frequency = True)\n",
      "    print (\"M_remnant\", integrated_baryonic_mass, integrated_baryonic_mass * (1 - 3.0 / 5.0 * consts.G * integrated_baryonic_mass / (12 * u.km * consts.c ** 2)))\n",
      "    \n",
      "#     full_imf = integrator.IMFIntegrator (np.arange (9,15,0.1) * u.solMass)) + \n",
      "    \n",
      "#     mask = np.array (list (np.arange (9,15,0.1)>0) + list (jp [\":E_exp\"].value > 0)), dtype = bool)\n",
      "#     print (new_imf (newmasses, mask = mask, mask_frequency = True))\n",
      "#     print (new_imf (newmasses / newmasses, mask = mask))"
     ],
     "language": "python",
     "metadata": {},
     "outputs": [
      {
       "output_type": "stream",
       "stream": "stdout",
       "text": [
        "('Calibration: ', 'w15.0')\n",
        "('E', <Quantity 8.928865597973748e+50 erg>)\n",
        "('Ni Mass', <Quantity 0.06035905535039554 solMass>, <Quantity 0.06841570301800048 solMass>)\n",
        "('Average SN Mass', <Quantity 14.59689173719573 solMass>)"
       ]
      },
      {
       "output_type": "stream",
       "stream": "stdout",
       "text": [
        "\n",
        "('%', <Quantity 0.7103173210947495>, <Quantity 0.10431163434647052>)\n",
        "0.0609379693374\n",
        "('M_remnant', <Quantity 1.5623374332332907 solMass>, <Quantity 1.3820727360244658 solMass>)\n",
        "('Calibration: ', 'w18.0')"
       ]
      },
      {
       "output_type": "stream",
       "stream": "stdout",
       "text": [
        "\n",
        "('E', <Quantity 9.91361652120022e+50 erg>)\n",
        "('Ni Mass', <Quantity 0.06770154491063565 solMass>, <Quantity 0.07859469587132083 solMass>)\n",
        "('Average SN Mass', <Quantity 14.775400056200407 solMass>)"
       ]
      },
      {
       "output_type": "stream",
       "stream": "stdout",
       "text": [
        "\n",
        "('%', <Quantity 0.7207777576766516>, <Quantity 0.12275095783150296>)\n",
        "0.0706693580589\n",
        "('M_remnant', <Quantity 1.5657751974171912 solMass>, <Quantity 1.3847163192483674 solMass>)\n"
       ]
      }
     ],
     "prompt_number": 13
    },
    {
     "cell_type": "code",
     "collapsed": false,
     "input": [
      "print (jp [\":with_fallback:M_outside(Tr)\"])"
     ],
     "language": "python",
     "metadata": {},
     "outputs": [
      {
       "output_type": "stream",
       "stream": "stdout",
       "text": [
        "[ 0.014  0.012  0.012  0.005  0.009  0.01   0.004  0.006  0.007  0.004\n",
        "  0.004  0.     0.     0.     0.     0.     0.013  0.     0.     0.     0.\n",
        "  0.01   0.     0.     0.011  0.014  0.009  0.009  0.009  0.009  0.009\n",
        "  0.009  0.008  0.008  0.007  0.007  0.     0.     0.     0.     0.     0.\n",
        "  0.     0.016  0.     0.013  0.016  0.011  0.009  0.     0.     0.     0.\n",
        "  0.     0.     0.     0.003  0.022  0.     0.     0.     0.063  0.064  0.\n",
        "  0.     0.     0.064  0.034  0.065  0.065  0.     0.     0.001  0.     0.021\n",
        "  0.018  0.     0.     0.     0.003  0.001  0.     0.     0.     0.     0.\n",
        "  0.     0.     0.     0.     0.     0.     0.     0.     0.     0.     0.\n",
        "  0.     0.     0.     0.     0.     0.     0.     0.     0.     0.     0.\n",
        "  0.     0.     0.     0.     0.     0.     0.     0.     0.023  0.     0.004\n",
        "  0.023  0.013  0.052  0.054  0.033  0.033  0.017  0.018  0.005  0.     0.004\n",
        "  0.     0.     0.     0.     0.     0.     0.     0.     0.     0.     0.\n",
        "  0.     0.     0.     0.     0.     0.     0.     0.     0.     0.     0.\n",
        "  0.     0.     0.     0.     0.     0.     0.     0.     0.     0.     0.\n",
        "  0.     0.     0.     0.     0.     0.     0.     0.     0.     0.     0.\n",
        "  0.     0.     0.     0.   ] solMass\n"
       ]
      }
     ],
     "prompt_number": 16
    },
    {
     "cell_type": "code",
     "collapsed": false,
     "input": [
      "import numpy as np"
     ],
     "language": "python",
     "metadata": {},
     "outputs": [],
     "prompt_number": 1
    },
    {
     "cell_type": "code",
     "collapsed": false,
     "input": [
      "from kepler_utils.yields.yields import YieldReader\n",
      "from kepler_utils.yields.integrator import IMFIntegrator, Integrator\n",
      "import astropy.units as u\n",
      "import numpy as np\n",
      "\n",
      "from kepler_utils.plots.yields import YieldPlot\n"
     ],
     "language": "python",
     "metadata": {},
     "outputs": [],
     "prompt_number": 2
    },
    {
     "cell_type": "code",
     "collapsed": false,
     "input": [
      "n20yr = YieldReader (directory = \"../yields/y_data_N20_special_13x6_120/\", masses = np.array (list (np.arange (13.6, 30.0, 0.1)) + [31, 32, 33, 35, 40, 45, 50, 55, 60, 70, 80, 100, 120]) * u.solMass, winds = False)\n",
      "w18yr = YieldReader (directory = \"../yields/y_data_W18_special_13x6_14x9/\", masses = np.arange (13.6, 14.9, 0.1) * u.solMass, winds = False)\n",
      "w18yr += YieldReader (directory = \"../yields/y_data_W18_special_15x0_30x0/\", masses = np.arange (15.0, 30.0, 0.1) * u.solMass, winds = False)\n",
      "w18yr += YieldReader (directory = \"../yields/y_data_W18_special_31_120/\", masses = np.array ([31, 32, 33, 35, 40, 45, 50, 55, 60, 70, 80, 100, 120]) * u.solMass, winds = False)"
     ],
     "language": "python",
     "metadata": {},
     "outputs": [],
     "prompt_number": 3
    },
    {
     "cell_type": "code",
     "collapsed": false,
     "input": [
      "\n"
     ],
     "language": "python",
     "metadata": {},
     "outputs": [
      {
       "metadata": {},
       "output_type": "pyout",
       "prompt_number": 10,
       "text": [
        "14"
       ]
      }
     ],
     "prompt_number": 10
    },
    {
     "cell_type": "code",
     "collapsed": false,
     "input": [
      "index = np.argmax (w18yr.masses >= 15.2 * u.solMass)\n",
      "ejecta = w18yr.yields [[str (iso) for iso in w18yr.isotopes]].iloc [index:index + 1]"
     ],
     "language": "python",
     "metadata": {},
     "outputs": [],
     "prompt_number": 52
    },
    {
     "cell_type": "code",
     "collapsed": false,
     "input": [
      "whyr = YieldReader (directory = \"../yields/wh07/\", explosions = True)"
     ],
     "language": "python",
     "metadata": {},
     "outputs": [],
     "prompt_number": 53
    },
    {
     "cell_type": "code",
     "collapsed": false,
     "input": [
      "index = np.argmax (whyr.masses >= 15.2 * u.solMass)\n",
      "winds = whyr.yields [[str (iso) for iso in w18yr.isotopes]].iloc [index:index + 1]"
     ],
     "language": "python",
     "metadata": {},
     "outputs": [],
     "prompt_number": 54
    },
    {
     "cell_type": "code",
     "collapsed": false,
     "input": [
      "table = ejecta.append (winds, ignore_index = True).append (ejecta + winds, ignore_index = True)"
     ],
     "language": "python",
     "metadata": {},
     "outputs": [],
     "prompt_number": 41
    },
    {
     "cell_type": "code",
     "collapsed": false,
     "input": [
      "table.index = [\"ejecta\", \"winds\", \"total\"]"
     ],
     "language": "python",
     "metadata": {},
     "outputs": [],
     "prompt_number": 47
    },
    {
     "cell_type": "code",
     "collapsed": false,
     "input": [
      "winds.reset_index () + ejecta.reset_index ()"
     ],
     "language": "python",
     "metadata": {},
     "outputs": [
      {
       "html": [
        "<div style=\"max-height:1000px;max-width:1500px;overflow:auto;\">\n",
        "<table border=\"1\" class=\"dataframe\">\n",
        "  <thead>\n",
        "    <tr style=\"text-align: right;\">\n",
        "      <th></th>\n",
        "      <th>index</th>\n",
        "      <th>h1</th>\n",
        "      <th>h2</th>\n",
        "      <th>he3</th>\n",
        "      <th>he4</th>\n",
        "      <th>li6</th>\n",
        "      <th>li7</th>\n",
        "      <th>be9</th>\n",
        "      <th>b10</th>\n",
        "      <th>b11</th>\n",
        "      <th>...</th>\n",
        "      <th>hg201</th>\n",
        "      <th>hg202</th>\n",
        "      <th>hg204</th>\n",
        "      <th>tl203</th>\n",
        "      <th>tl205</th>\n",
        "      <th>pb204</th>\n",
        "      <th>pb206</th>\n",
        "      <th>pb207</th>\n",
        "      <th>pb208</th>\n",
        "      <th>bi209</th>\n",
        "    </tr>\n",
        "  </thead>\n",
        "  <tbody>\n",
        "    <tr>\n",
        "      <th>0</th>\n",
        "      <td> 6</td>\n",
        "      <td> 12.767</td>\n",
        "      <td> 9.865000e-08</td>\n",
        "      <td> 0.000732</td>\n",
        "      <td> 9.5426</td>\n",
        "      <td> 1.028600e-10</td>\n",
        "      <td> 0.000001</td>\n",
        "      <td> 1.931900e-10</td>\n",
        "      <td> 4.909900e-09</td>\n",
        "      <td> 0.000002</td>\n",
        "      <td>...</td>\n",
        "      <td> 8.726500e-09</td>\n",
        "      <td> 2.218500e-08</td>\n",
        "      <td> 6.339700e-09</td>\n",
        "      <td> 1.083000e-08</td>\n",
        "      <td> 2.289100e-08</td>\n",
        "      <td> 1.145100e-08</td>\n",
        "      <td> 0</td>\n",
        "      <td> 0</td>\n",
        "      <td> 0</td>\n",
        "      <td> 2.165100e-08</td>\n",
        "    </tr>\n",
        "  </tbody>\n",
        "</table>\n",
        "<p>1 rows \u00d7 284 columns</p>\n",
        "</div>"
       ],
       "metadata": {},
       "output_type": "pyout",
       "prompt_number": 61,
       "text": [
        "   index      h1            h2       he3     he4           li6       li7  \\\n",
        "0      6  12.767  9.865000e-08  0.000732  9.5426  1.028600e-10  0.000001   \n",
        "\n",
        "            be9           b10       b11      ...              hg201  \\\n",
        "0  1.931900e-10  4.909900e-09  0.000002      ...       8.726500e-09   \n",
        "\n",
        "          hg202         hg204         tl203         tl205         pb204  \\\n",
        "0  2.218500e-08  6.339700e-09  1.083000e-08  2.289100e-08  1.145100e-08   \n",
        "\n",
        "   pb206  pb207  pb208         bi209  \n",
        "0      0      0      0  2.165100e-08  \n",
        "\n",
        "[1 rows x 284 columns]"
       ]
      }
     ],
     "prompt_number": 61
    },
    {
     "cell_type": "code",
     "collapsed": false,
     "input": [
      "table.transpose ().to_latex ()"
     ],
     "language": "python",
     "metadata": {},
     "outputs": [
      {
       "metadata": {},
       "output_type": "pyout",
       "prompt_number": 51,
       "text": [
        "u'\\\\begin{tabular}{lrrr}\\n\\\\toprule\\n{} &        ejecta &         winds &         total \\\\\\\\\\n\\\\midrule\\nh1    &  5.652000e+00 &  1.014000e+01 &  1.579200e+01 \\\\\\\\\\nh2    &  0.000000e+00 &  2.019000e-07 &  2.019000e-07 \\\\\\\\\\nhe3   &  3.131000e-04 &  5.785000e-04 &  8.916000e-04 \\\\\\\\\\nhe4   &  4.017700e+00 &  7.483000e+00 &  1.150070e+01 \\\\\\\\\\nli6   &  0.000000e+00 &  1.067000e-10 &  1.067000e-10 \\\\\\\\\\nli7   &  0.000000e+00 &  1.843000e-07 &  1.843000e-07 \\\\\\\\\\nbe9   &  7.700000e-13 &  1.161000e-10 &  1.168700e-10 \\\\\\\\\\nb10   &  6.202000e-10 &  2.932000e-09 &  3.552200e-09 \\\\\\\\\\nb11   &  1.572000e-09 &  1.176000e-06 &  1.177572e-06 \\\\\\\\\\nc12   &  1.542810e-01 &  3.139000e-01 &  4.681810e-01 \\\\\\\\\\nc13   &  8.070000e-04 &  1.247000e-03 &  2.054000e-03 \\\\\\\\\\nn14   &  3.240900e-02 &  6.088000e-02 &  9.328900e-02 \\\\\\\\\\nn15   &  1.160100e-05 &  1.267000e-04 &  1.383010e-04 \\\\\\\\\\no16   &  8.812400e-01 &  3.664000e+00 &  4.545240e+00 \\\\\\\\\\no17   &  4.609600e-05 &  5.205000e-05 &  9.814600e-05 \\\\\\\\\\no18   &  2.007820e-03 &  2.631000e-04 &  2.270920e-03 \\\\\\\\\\nf19   &  3.849400e-06 &  3.780000e-05 &  4.164940e-05 \\\\\\\\\\nne20  &  1.652520e-01 &  4.753000e-01 &  6.405520e-01 \\\\\\\\\\nne21  &  2.369580e-04 &  8.053000e-04 &  1.042258e-03 \\\\\\\\\\nne22  &  9.103300e-03 &  2.226000e-02 &  3.136330e-02 \\\\\\\\\\nna23  &  2.393270e-03 &  1.683000e-02 &  1.922327e-02 \\\\\\\\\\nmg24  &  6.044600e-02 &  7.793000e-02 &  1.383760e-01 \\\\\\\\\\nmg25  &  9.368500e-03 &  2.015000e-02 &  2.951850e-02 \\\\\\\\\\nmg26  &  8.493300e-03 &  2.061000e-02 &  2.910330e-02 \\\\\\\\\\nal27  &  5.630700e-03 &  1.577000e-02 &  2.140070e-02 \\\\\\\\\\nsi28  &  1.580400e-02 &  3.790000e-01 &  3.948040e-01 \\\\\\\\\\nsi29  &  2.591310e-03 &  5.085000e-03 &  7.676310e-03 \\\\\\\\\\nsi30  &  1.367600e-03 &  4.873000e-03 &  6.240600e-03 \\\\\\\\\\np31   &  3.980600e-04 &  5.203000e-03 &  5.601060e-03 \\\\\\\\\\ns32   &  4.320100e-03 &  2.859000e-01 &  2.902201e-01 \\\\\\\\\\ns33   &  4.147600e-05 &  2.407000e-03 &  2.448476e-03 \\\\\\\\\\ns34   &  2.400600e-04 &  1.831000e-02 &  1.855006e-02 \\\\\\\\\\ns36   &  4.638400e-06 &  2.017000e-05 &  2.480840e-05 \\\\\\\\\\ncl35  &  4.810000e-05 &  5.473000e-03 &  5.521100e-03 \\\\\\\\\\ncl37  &  5.571000e-05 &  6.846000e-04 &  7.403100e-04 \\\\\\\\\\nar36  &  9.367000e-04 &  5.225000e-02 &  5.318670e-02 \\\\\\\\\\nar38  &  2.272700e-04 &  1.891000e-02 &  1.913727e-02 \\\\\\\\\\nar40  &  2.823590e-06 &  9.967000e-06 &  1.279059e-05 \\\\\\\\\\nk39   &  5.253100e-05 &  5.170000e-03 &  5.222531e-03 \\\\\\\\\\nk40   &  9.517700e-07 &  3.816000e-05 &  3.911177e-05 \\\\\\\\\\nk41   &  6.186800e-06 &  1.754000e-04 &  1.815868e-04 \\\\\\\\\\nca40  &  7.394000e-04 &  1.938000e-02 &  2.011940e-02 \\\\\\\\\\nca42  &  8.431000e-06 &  9.558000e-04 &  9.642310e-04 \\\\\\\\\\nca43  &  2.504200e-06 &  3.061000e-05 &  3.311420e-05 \\\\\\\\\\nca44  &  2.052800e-05 &  1.085000e-04 &  1.290280e-04 \\\\\\\\\\nca46  &  4.214550e-07 &  4.955000e-07 &  9.169550e-07 \\\\\\\\\\nca48  &  1.789800e-06 &  3.383000e-06 &  5.172800e-06 \\\\\\\\\\nsc45  &  1.812670e-06 &  1.141000e-05 &  1.322267e-05 \\\\\\\\\\nti46  &  3.221000e-06 &  1.181000e-04 &  1.213210e-04 \\\\\\\\\\nti47  &  2.919200e-06 &  1.897000e-05 &  2.188920e-05 \\\\\\\\\\nti48  &  2.538200e-05 &  2.616000e-04 &  2.869820e-04 \\\\\\\\\\nti49  &  3.266600e-06 &  2.107000e-05 &  2.433660e-05 \\\\\\\\\\nti50  &  4.746700e-06 &  1.707000e-05 &  2.181670e-05 \\\\\\\\\\nv50   &  4.222200e-08 &  4.185000e-07 &  4.607220e-07 \\\\\\\\\\nv51   &  4.678900e-06 &  4.132000e-05 &  4.599890e-05 \\\\\\\\\\ncr50  &  8.028000e-06 &  1.519000e-04 &  1.599280e-04 \\\\\\\\\\ncr52  &  1.692800e-04 &  1.824000e-03 &  1.993280e-03 \\\\\\\\\\ncr53  &  2.027600e-05 &  2.047000e-04 &  2.249760e-04 \\\\\\\\\\ncr54  &  1.443650e-05 &  3.756000e-05 &  5.199650e-05 \\\\\\\\\\nmn55  &  1.580900e-04 &  9.992000e-04 &  1.157290e-03 \\\\\\\\\\nfe54  &  7.661000e-04 &  7.099000e-03 &  7.865100e-03 \\\\\\\\\\nfe56  &  1.283100e-02 &  1.139000e-01 &  1.267310e-01 \\\\\\\\\\nfe57  &  4.894800e-04 &  3.876000e-03 &  4.365480e-03 \\\\\\\\\\nfe58  &  5.324710e-04 &  1.098000e-03 &  1.630471e-03 \\\\\\\\\\nco59  &  1.990510e-04 &  7.225000e-04 &  9.215510e-04 \\\\\\\\\\nni58  &  5.438000e-04 &  3.660000e-03 &  4.203800e-03 \\\\\\\\\\nni60  &  3.443400e-04 &  4.432000e-03 &  4.776340e-03 \\\\\\\\\\nni61  &  8.796900e-05 &  4.663000e-04 &  5.542690e-04 \\\\\\\\\\nni62  &  1.314770e-04 &  1.524000e-03 &  1.655477e-03 \\\\\\\\\\nni64  &  1.084400e-04 &  7.060000e-04 &  8.144400e-04 \\\\\\\\\\ncu63  &  9.852100e-05 &  3.935000e-04 &  4.920210e-04 \\\\\\\\\\ncu65  &  1.629970e-05 &  2.347000e-04 &  2.509997e-04 \\\\\\\\\\nzn64  &  1.258200e-05 &  1.130000e-04 &  1.255820e-04 \\\\\\\\\\nzn66  &  1.751500e-05 &  4.054000e-04 &  4.229150e-04 \\\\\\\\\\nzn67  &  6.096100e-06 &  6.568000e-05 &  7.177610e-05 \\\\\\\\\\nzn68  &  1.988270e-05 &  2.954000e-04 &  3.152827e-04 \\\\\\\\\\nzn70  &  1.358690e-06 &  1.130000e-06 &  2.488690e-06 \\\\\\\\\\nga69  &  2.140480e-06 &  5.125000e-05 &  5.339048e-05 \\\\\\\\\\nga71  &  1.746180e-06 &  3.765000e-05 &  3.939618e-05 \\\\\\\\\\nge70  &  1.592800e-06 &  7.782000e-05 &  7.941280e-05 \\\\\\\\\\nge72  &  2.124900e-06 &  7.520000e-05 &  7.732490e-05 \\\\\\\\\\nge73  &  1.247050e-06 &  2.019000e-05 &  2.143705e-05 \\\\\\\\\\nge74  &  3.401900e-06 &  5.366000e-05 &  5.706190e-05 \\\\\\\\\\nge76  &  6.860500e-07 &  5.006000e-07 &  1.186650e-06 \\\\\\\\\\nas75  &  6.698000e-07 &  9.476000e-06 &  1.014580e-05 \\\\\\\\\\nse74  &  1.211100e-08 &  6.182000e-06 &  6.194111e-06 \\\\\\\\\\nse76  &  3.741000e-07 &  3.723000e-05 &  3.760410e-05 \\\\\\\\\\nse77  &  4.634200e-07 &  9.833000e-06 &  1.029642e-05 \\\\\\\\\\nse78  &  7.501400e-07 &  2.714000e-05 &  2.789014e-05 \\\\\\\\\\nse80  &  1.812600e-06 &  3.476000e-05 &  3.657260e-05 \\\\\\\\\\nse82  &  3.687000e-07 &  2.833000e-07 &  6.520000e-07 \\\\\\\\\\nbr79  &  4.994000e-07 &  1.118000e-05 &  1.167940e-05 \\\\\\\\\\nbr81  &  4.005000e-07 &  7.836000e-06 &  8.236500e-06 \\\\\\\\\\nkr78  &  4.347700e-09 &  8.427000e-07 &  8.470477e-07 \\\\\\\\\\nkr80  &  3.333800e-08 &  1.032000e-05 &  1.035334e-05 \\\\\\\\\\nkr82  &  3.077900e-07 &  2.138000e-05 &  2.168779e-05 \\\\\\\\\\nkr83  &  3.799900e-07 &  6.561000e-06 &  6.940990e-06 \\\\\\\\\\nkr84  &  1.227200e-06 &  2.181000e-05 &  2.303720e-05 \\\\\\\\\\nkr86  &  7.732300e-07 &  4.210000e-06 &  4.983230e-06 \\\\\\\\\\nrb85  &  4.589100e-07 &  6.360000e-06 &  6.818910e-06 \\\\\\\\\\nrb87  &  1.311450e-07 &  2.910000e-06 &  3.041145e-06 \\\\\\\\\\nsr84  &  3.051600e-09 &  1.611000e-06 &  1.614052e-06 \\\\\\\\\\nsr86  &  8.693000e-08 &  1.328000e-05 &  1.336693e-05 \\\\\\\\\\nsr87  &  6.107800e-08 &  4.270000e-06 &  4.331078e-06 \\\\\\\\\\nsr88  &  8.737000e-07 &  1.622000e-05 &  1.709370e-05 \\\\\\\\\\ny89   &  1.892100e-07 &  3.963000e-06 &  4.152210e-06 \\\\\\\\\\nzr90  &  1.958900e-07 &  9.057000e-06 &  9.252890e-06 \\\\\\\\\\nzr91  &  5.334500e-08 &  4.438000e-07 &  4.971450e-07 \\\\\\\\\\nzr92  &  7.418000e-08 &  4.122000e-07 &  4.863800e-07 \\\\\\\\\\nzr94  &  7.719000e-08 &  2.768000e-07 &  3.539900e-07 \\\\\\\\\\nzr96  &  1.896300e-08 &  3.344000e-08 &  5.240300e-08 \\\\\\\\\\nnb93  &  3.010500e-08 &  1.302000e-07 &  1.603050e-07 \\\\\\\\\\nmo92  &  1.018200e-08 &  4.198000e-08 &  5.216200e-08 \\\\\\\\\\nmo94  &  6.949000e-09 &  1.817000e-08 &  2.511900e-08 \\\\\\\\\\nmo95  &  1.492200e-08 &  4.432000e-08 &  5.924200e-08 \\\\\\\\\\nmo96  &  1.320100e-08 &  5.798000e-08 &  7.118100e-08 \\\\\\\\\\nmo97  &  7.400000e-09 &  2.477000e-08 &  3.217000e-08 \\\\\\\\\\nmo98  &  2.082700e-08 &  6.421000e-08 &  8.503700e-08 \\\\\\\\\\nmo100 &  8.001000e-09 &  1.486000e-08 &  2.286100e-08 \\\\\\\\\\nru96  &  2.839800e-09 &  9.296000e-09 &  1.213580e-08 \\\\\\\\\\nru98  &  9.983000e-10 &  6.672000e-09 &  7.670300e-09 \\\\\\\\\\nru99  &  6.923000e-09 &  1.869000e-08 &  2.561300e-08 \\\\\\\\\\nru100 &  7.658000e-09 &  3.098000e-08 &  3.863800e-08 \\\\\\\\\\nru101 &  9.139000e-09 &  2.085000e-08 &  2.998900e-08 \\\\\\\\\\nru102 &  1.938700e-08 &  4.725000e-08 &  6.663700e-08 \\\\\\\\\\nru104 &  1.227200e-08 &  2.358000e-08 &  3.585200e-08 \\\\\\\\\\nrh103 &  1.105200e-08 &  2.606000e-08 &  3.711200e-08 \\\\\\\\\\npd102 &  4.126800e-10 &  1.296000e-08 &  1.337268e-08 \\\\\\\\\\npd104 &  5.583400e-09 &  1.985000e-08 &  2.543340e-08 \\\\\\\\\\npd105 &  9.497000e-09 &  1.985000e-08 &  2.934700e-08 \\\\\\\\\\npd106 &  1.336100e-08 &  3.339000e-08 &  4.675100e-08 \\\\\\\\\\npd108 &  1.338100e-08 &  3.354000e-08 &  4.692100e-08 \\\\\\\\\\npd110 &  6.292000e-09 &  1.097000e-08 &  1.726200e-08 \\\\\\\\\\nag107 &  7.797000e-09 &  1.800000e-08 &  2.579700e-08 \\\\\\\\\\nag109 &  7.475000e-09 &  1.680000e-08 &  2.427500e-08 \\\\\\\\\\ncd106 &  5.874000e-10 &  1.427000e-08 &  1.485740e-08 \\\\\\\\\\ncd108 &  7.638700e-10 &  1.077000e-08 &  1.153387e-08 \\\\\\\\\\ncd110 &  7.114000e-09 &  2.684000e-08 &  3.395400e-08 \\\\\\\\\\ncd111 &  6.429000e-09 &  1.472000e-08 &  2.114900e-08 \\\\\\\\\\ncd112 &  1.324100e-08 &  3.280000e-08 &  4.604100e-08 \\\\\\\\\\ncd113 &  6.457000e-09 &  1.397000e-08 &  2.042700e-08 \\\\\\\\\\ncd114 &  1.810900e-08 &  4.410000e-08 &  6.220900e-08 \\\\\\\\\\ncd116 &  6.295000e-09 &  1.085000e-08 &  1.714500e-08 \\\\\\\\\\nin113 &  2.562100e-10 &  3.086000e-09 &  3.342210e-09 \\\\\\\\\\nin115 &  5.889000e-09 &  1.357000e-08 &  1.945900e-08 \\\\\\\\\\nsn112 &  1.147100e-09 &  2.762000e-08 &  2.876710e-08 \\\\\\\\\\nsn114 &  8.200000e-10 &  1.688000e-08 &  1.770000e-08 \\\\\\\\\\nsn115 &  4.217900e-10 &  1.825000e-09 &  2.246790e-09 \\\\\\\\\\nsn116 &  1.986700e-08 &  5.715000e-08 &  7.701700e-08 \\\\\\\\\\nsn117 &  1.006300e-08 &  2.314000e-08 &  3.320300e-08 \\\\\\\\\\nsn118 &  3.508700e-08 &  8.725000e-08 &  1.223370e-07 \\\\\\\\\\nsn119 &  1.200200e-08 &  2.691000e-08 &  3.891200e-08 \\\\\\\\\\nsn120 &  5.316900e-08 &  1.179000e-07 &  1.710690e-07 \\\\\\\\\\nsn122 &  1.174100e-08 &  1.509000e-08 &  2.683100e-08 \\\\\\\\\\nsn124 &  8.376000e-09 &  1.422000e-08 &  2.259600e-08 \\\\\\\\\\nsb121 &  7.214000e-09 &  1.518000e-08 &  2.239400e-08 \\\\\\\\\\nsb123 &  5.277000e-09 &  1.018000e-08 &  1.545700e-08 \\\\\\\\\\nte120 &  1.521800e-10 &  1.041000e-09 &  1.193180e-09 \\\\\\\\\\nte122 &  4.889700e-09 &  1.311000e-08 &  1.799970e-08 \\\\\\\\\\nte123 &  1.695900e-09 &  4.202000e-09 &  5.897900e-09 \\\\\\\\\\nte124 &  9.512000e-09 &  2.400000e-08 &  3.351200e-08 \\\\\\\\\\nte125 &  1.288100e-08 &  2.487000e-08 &  3.775100e-08 \\\\\\\\\\nte126 &  3.654500e-08 &  7.551000e-08 &  1.120550e-07 \\\\\\\\\\nte128 &  5.923000e-08 &  1.047000e-07 &  1.639300e-07 \\\\\\\\\\nte130 &  6.297000e-08 &  1.115000e-07 &  1.744700e-07 \\\\\\\\\\ni127  &  3.531300e-08 &  6.611000e-08 &  1.014230e-07 \\\\\\\\\\nxe124 &  2.355200e-10 &  3.844000e-09 &  4.079520e-09 \\\\\\\\\\nxe126 &  2.104400e-10 &  3.377000e-09 &  3.587440e-09 \\\\\\\\\\nxe128 &  6.292700e-09 &  1.723000e-08 &  2.352270e-08 \\\\\\\\\\nxe129 &  5.358000e-08 &  9.941000e-08 &  1.529900e-07 \\\\\\\\\\nxe130 &  1.269900e-08 &  2.938000e-08 &  4.207900e-08 \\\\\\\\\\nxe131 &  4.418700e-08 &  8.337000e-08 &  1.275570e-07 \\\\\\\\\\nxe132 &  6.131000e-08 &  1.203000e-07 &  1.816100e-07 \\\\\\\\\\nxe134 &  2.565500e-08 &  3.912000e-08 &  6.477500e-08 \\\\\\\\\\nxe136 &  1.894800e-08 &  3.470000e-08 &  5.364800e-08 \\\\\\\\\\ncs133 &  1.487000e-08 &  2.990000e-08 &  4.477000e-08 \\\\\\\\\\nba130 &  1.624700e-10 &  4.315000e-09 &  4.477470e-09 \\\\\\\\\\nba132 &  1.608800e-10 &  4.110000e-09 &  4.270880e-09 \\\\\\\\\\nba134 &  5.409000e-09 &  1.551000e-08 &  2.091900e-08 \\\\\\\\\\nba135 &  1.249200e-08 &  2.640000e-08 &  3.889200e-08 \\\\\\\\\\nba136 &  1.754000e-08 &  4.719000e-08 &  6.473000e-08 \\\\\\\\\\nba137 &  2.783600e-08 &  5.575000e-08 &  8.358600e-08 \\\\\\\\\\nba138 &  1.820100e-07 &  4.387000e-07 &  6.207100e-07 \\\\\\\\\\nla138 &  1.615800e-11 &  3.712000e-10 &  3.873580e-10 \\\\\\\\\\nla139 &  2.304700e-08 &  5.673000e-08 &  7.977700e-08 \\\\\\\\\\nce136 &  8.204000e-11 &  1.088000e-09 &  1.170040e-09 \\\\\\\\\\nce138 &  1.139100e-10 &  1.435000e-09 &  1.548910e-09 \\\\\\\\\\nce140 &  5.158900e-08 &  1.280000e-07 &  1.795890e-07 \\\\\\\\\\nce142 &  5.757000e-09 &  1.093000e-08 &  1.668700e-08 \\\\\\\\\\npr141 &  7.523000e-09 &  1.952000e-08 &  2.704300e-08 \\\\\\\\\\nnd142 &  1.073900e-08 &  3.333000e-08 &  4.406900e-08 \\\\\\\\\\nnd143 &  4.216900e-09 &  9.699000e-09 &  1.391590e-08 \\\\\\\\\\nnd144 &  9.478000e-09 &  2.044000e-08 &  2.991800e-08 \\\\\\\\\\nnd145 &  2.893900e-09 &  6.585000e-09 &  9.478900e-09 \\\\\\\\\\nnd146 &  7.224000e-09 &  1.570000e-08 &  2.292400e-08 \\\\\\\\\\nnd148 &  2.180500e-09 &  4.277000e-09 &  6.457500e-09 \\\\\\\\\\nnd150 &  2.001500e-09 &  3.613000e-09 &  5.614500e-09 \\\\\\\\\\nsm144 &  3.209600e-10 &  8.417000e-09 &  8.737960e-09 \\\\\\\\\\nsm147 &  1.628800e-09 &  3.402000e-09 &  5.030800e-09 \\\\\\\\\\nsm148 &  1.418100e-09 &  3.079000e-09 &  4.497100e-09 \\\\\\\\\\nsm149 &  1.432900e-09 &  2.869000e-09 &  4.301900e-09 \\\\\\\\\\nsm150 &  1.028400e-09 &  2.416000e-09 &  3.444400e-09 \\\\\\\\\\nsm152 &  3.009800e-09 &  6.048000e-09 &  9.057800e-09 \\\\\\\\\\nsm154 &  2.563100e-09 &  4.971000e-09 &  7.534100e-09 \\\\\\\\\\neu151 &  1.850500e-09 &  3.646000e-09 &  5.496500e-09 \\\\\\\\\\neu153 &  2.065400e-09 &  4.110000e-09 &  6.175400e-09 \\\\\\\\\\ngd152 &  9.018800e-11 &  8.357000e-11 &  1.737580e-10 \\\\\\\\\\ngd154 &  4.684600e-10 &  8.007000e-10 &  1.269160e-09 \\\\\\\\\\ngd155 &  2.139400e-09 &  4.332000e-09 &  6.471400e-09 \\\\\\\\\\ngd156 &  3.206700e-09 &  6.136000e-09 &  9.342700e-09 \\\\\\\\\\ngd157 &  2.331300e-09 &  4.666000e-09 &  6.997300e-09 \\\\\\\\\\ngd158 &  4.143200e-09 &  8.211000e-09 &  1.235420e-08 \\\\\\\\\\ngd160 &  3.323500e-09 &  6.175000e-09 &  9.498500e-09 \\\\\\\\\\ntb159 &  2.615000e-09 &  5.298000e-09 &  7.913000e-09 \\\\\\\\\\ndy156 &  9.113000e-12 &  1.101000e-10 &  1.192130e-10 \\\\\\\\\\ndy158 &  1.751800e-11 &  2.678000e-10 &  2.853180e-10 \\\\\\\\\\ndy160 &  5.796900e-10 &  1.570000e-09 &  2.149690e-09 \\\\\\\\\\ndy161 &  3.249500e-09 &  6.377000e-09 &  9.626500e-09 \\\\\\\\\\ndy162 &  4.896600e-09 &  9.212000e-09 &  1.410860e-08 \\\\\\\\\\ndy163 &  4.397600e-09 &  8.533000e-09 &  1.293060e-08 \\\\\\\\\\ndy164 &  5.766000e-09 &  1.141000e-08 &  1.717600e-08 \\\\\\\\\\nho165 &  4.128800e-09 &  8.056000e-09 &  1.218480e-08 \\\\\\\\\\ner162 &  1.591800e-11 &  2.114000e-10 &  2.273180e-10 \\\\\\\\\\ner164 &  1.846600e-10 &  7.272000e-10 &  9.118600e-10 \\\\\\\\\\ner166 &  4.315000e-09 &  8.231000e-09 &  1.254600e-08 \\\\\\\\\\ner167 &  2.791900e-09 &  5.522000e-09 &  8.313900e-09 \\\\\\\\\\ner168 &  3.932500e-09 &  7.300000e-09 &  1.123250e-08 \\\\\\\\\\ner170 &  1.933600e-09 &  3.836000e-09 &  5.769600e-09 \\\\\\\\\\ntm169 &  1.853700e-09 &  3.814000e-09 &  5.667700e-09 \\\\\\\\\\nyb168 &  2.249800e-11 &  2.882000e-10 &  3.106980e-10 \\\\\\\\\\nyb170 &  5.638300e-10 &  1.457000e-09 &  2.020830e-09 \\\\\\\\\\nyb171 &  1.844700e-09 &  3.814000e-09 &  5.658700e-09 \\\\\\\\\\nyb172 &  3.207000e-09 &  6.222000e-09 &  9.429000e-09 \\\\\\\\\\nyb173 &  2.056500e-09 &  4.274000e-09 &  6.330500e-09 \\\\\\\\\\nyb174 &  4.648100e-09 &  9.535000e-09 &  1.418310e-08 \\\\\\\\\\nyb176 &  1.636800e-09 &  3.389000e-09 &  5.025800e-09 \\\\\\\\\\nlu175 &  1.794700e-09 &  3.643000e-09 &  5.437700e-09 \\\\\\\\\\nlu176 &  6.639000e-11 &  1.623000e-10 &  2.286900e-10 \\\\\\\\\\nhf174 &  3.403000e-11 &  1.861000e-10 &  2.201300e-10 \\\\\\\\\\nhf176 &  1.060670e-09 &  1.514000e-09 &  2.574670e-09 \\\\\\\\\\nhf177 &  1.622800e-09 &  3.192000e-09 &  4.814800e-09 \\\\\\\\\\nhf178 &  3.090200e-09 &  5.519000e-09 &  8.609200e-09 \\\\\\\\\\nhf179 &  1.254100e-09 &  2.637000e-09 &  3.891100e-09 \\\\\\\\\\nhf180 &  3.699700e-09 &  7.694000e-09 &  1.139370e-08 \\\\\\\\\\nta180 &  1.595500e-12 &  7.364000e-12 &  8.959500e-12 \\\\\\\\\\nta181 &  1.222200e-09 &  2.813000e-09 &  4.035200e-09 \\\\\\\\\\nw180  &  3.977400e-11 &  1.312000e-10 &  1.709740e-10 \\\\\\\\\\nw182  &  2.610700e-09 &  4.820000e-09 &  7.430700e-09 \\\\\\\\\\nw183  &  1.067700e-09 &  2.438000e-09 &  3.505700e-09 \\\\\\\\\\nw184  &  2.597500e-09 &  5.148000e-09 &  7.745500e-09 \\\\\\\\\\nw186  &  2.089600e-09 &  4.500000e-09 &  6.589600e-09 \\\\\\\\\\nre185 &  1.074200e-09 &  2.280000e-09 &  3.354200e-09 \\\\\\\\\\nre187 &  1.832700e-09 &  3.560000e-09 &  5.392700e-09 \\\\\\\\\\nos184 &  1.311300e-11 &  1.111000e-10 &  1.242130e-10 \\\\\\\\\\nos186 &  7.679000e-10 &  1.427000e-09 &  2.194900e-09 \\\\\\\\\\nos187 &  4.782900e-10 &  9.324000e-10 &  1.410690e-09 \\\\\\\\\\nos188 &  5.175400e-09 &  9.383000e-09 &  1.455840e-08 \\\\\\\\\\nos189 &  5.656000e-09 &  1.055000e-08 &  1.620600e-08 \\\\\\\\\\nos190 &  1.022100e-08 &  1.859000e-08 &  2.881100e-08 \\\\\\\\\\nos192 &  1.497900e-08 &  2.724000e-08 &  4.221900e-08 \\\\\\\\\\nir191 &  1.257000e-08 &  2.313000e-08 &  3.570000e-08 \\\\\\\\\\nir193 &  2.159300e-08 &  3.961000e-08 &  6.120300e-08 \\\\\\\\\\npt190 &  1.076200e-11 &  1.391000e-10 &  1.498620e-10 \\\\\\\\\\npt192 &  1.240400e-09 &  2.200000e-09 &  3.440400e-09 \\\\\\\\\\npt194 &  2.591100e-08 &  4.676000e-08 &  7.267100e-08 \\\\\\\\\\npt195 &  2.507100e-08 &  4.600000e-08 &  7.107100e-08 \\\\\\\\\\npt196 &  2.150600e-08 &  3.929000e-08 &  6.079600e-08 \\\\\\\\\\npt198 &  5.609000e-09 &  1.018000e-08 &  1.578900e-08 \\\\\\\\\\nau197 &  1.137200e-08 &  2.139000e-08 &  3.276200e-08 \\\\\\\\\\nhg196 &  5.359400e-11 &  5.988000e-10 &  6.523940e-10 \\\\\\\\\\nhg198 &  3.635300e-09 &  8.805000e-09 &  1.244030e-08 \\\\\\\\\\nhg199 &  4.398000e-09 &  8.850000e-09 &  1.324800e-08 \\\\\\\\\\nhg200 &  7.885000e-09 &  1.524000e-08 &  2.312500e-08 \\\\\\\\\\nhg201 &  3.580700e-09 &  7.727000e-09 &  1.130770e-08 \\\\\\\\\\nhg202 &  1.102900e-08 &  1.916000e-08 &  3.018900e-08 \\\\\\\\\\nhg204 &  3.027800e-09 &  3.834000e-09 &  6.861800e-09 \\\\\\\\\\ntl203 &  4.382600e-09 &  9.322000e-09 &  1.370460e-08 \\\\\\\\\\ntl205 &  1.026600e-08 &  1.931000e-08 &  2.957600e-08 \\\\\\\\\\npb204 &  4.893200e-09 &  1.157000e-08 &  1.646320e-08 \\\\\\\\\\npb206 &  5.072400e-08 &  9.767000e-08 &  1.483940e-07 \\\\\\\\\\npb207 &  5.070100e-08 &  1.212000e-07 &  1.719010e-07 \\\\\\\\\\npb208 &  1.377200e-07 &  3.118000e-07 &  4.495200e-07 \\\\\\\\\\nbi209 &  9.618000e-09 &  2.036000e-08 &  2.997800e-08 \\\\\\\\\\n\\\\bottomrule\\n\\\\end{tabular}\\n'"
       ]
      }
     ],
     "prompt_number": 51
    },
    {
     "cell_type": "code",
     "collapsed": false,
     "input": [],
     "language": "python",
     "metadata": {},
     "outputs": []
    }
   ],
   "metadata": {}
  }
 ]
}