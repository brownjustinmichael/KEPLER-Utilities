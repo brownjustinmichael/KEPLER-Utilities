{
 "cells": [
  {
   "cell_type": "code",
   "execution_count": 65,
   "metadata": {
    "collapsed": false
   },
   "outputs": [
    {
     "name": "stdout",
     "output_type": "stream",
     "text": [
      "Calibration:  w15.0\n",
      "E 7.020825074388177e+50 erg\n",
      "Ni Mass 0.043913229711219894 solMass 0.054657474975486404 solMass\n",
      "Average SN Mass 14.40349659270851 solMass\n",
      "% 0.6321283734419516 0.08695786396950189\n",
      "0.08695786396950189\n",
      "M_remnant 1.5385486901607475 solMass 1.3637317573827592 solMass\n",
      "Calibration:  w18.0\n",
      "E 7.393352094162265e+50 erg\n",
      "Ni Mass 0.04660127114954473 solMass 0.058228533024405164 solMass\n",
      "Average SN Mass 14.59030823254528 solMass\n",
      "% 0.6454122115866211 0.1002233947383398\n",
      "0.1002233947383398\n",
      "M_remnant 1.5441815777822332 solMass 1.368082232866112 solMass\n",
      "Calibration:  w20.0\n",
      "E 5.998032785730114e+50 erg\n",
      "Ni Mass 0.036149187461668154 solMass 0.04389640638859812 solMass\n",
      "Average SN Mass 12.364339343151762 solMass\n",
      "% 0.49485399894005083 0.03971822283803301\n",
      "0.03971822283803301\n",
      "M_remnant 1.5387882592043287 solMass 1.3639168803287922 solMass\n",
      "Calibration:  n20.0\n",
      "E 8.935463150339316e+50 erg\n",
      "Ni Mass 0.053135638647085315 solMass 0.07129796100063564 solMass\n",
      "Average SN Mass 17.50134194628842 solMass\n",
      "% 0.7146149759069664 0.14788963158807203\n",
      "0.14788963158807203\n",
      "M_remnant 1.543439884423758 solMass 1.3675096651455296 solMass\n"
     ]
    }
   ],
   "source": [
    "import kepler_utils.yields.janka as janka\n",
    "import scipy.interpolate\n",
    "import kepler_utils.yields.yields as yld\n",
    "import kepler_utils.yields.integrator as integrator\n",
    "import astropy.units as u\n",
    "import numpy as np\n",
    "import astropy.constants as consts\n",
    "\n",
    "janka_dir = \"/Users/justinbrown/Dropbox/Research/Stan/Nucleosynthesis/links14/\"\n",
    "janka_calibrations = [\"w15.0\", \"w18.0\", \"w20.0\", \"n20.0\"]\n",
    "\n",
    "lower_sn_limit = 8\n",
    "remnant_approximation = \"si\"\n",
    "\n",
    "for calibration in janka_calibrations:\n",
    "    jp = None\n",
    "    jps = []\n",
    "    janka_files = [\"results_%s_revised.txt\" % calibration]\n",
    "    for f in janka_files:\n",
    "        jps.append (janka.JankaParser.readFrom (janka_dir + f))\n",
    "        if jp is None:\n",
    "            jp = jps [-1]\n",
    "        else:\n",
    "            jp += jps [-1]\n",
    "\n",
    "    janka_imf = integrator.IMFIntegrator (jp [\":M\"])\n",
    "    \n",
    "    print (\"Calibration: \", calibration)\n",
    "    \n",
    "    print (\"E\", janka_imf (jp [\":E_exp\"], mask = jp [\":E_exp\"] > 0.0 * u.erg, mask_frequency = True))\n",
    "    \n",
    "    print (\"Ni Mass\", janka_imf (jp [\":with_fallback:M_outside(Ni)\"], mask = jp [\":E_exp\"] > 0.0 * u.erg, mask_frequency = True), janka_imf (jp [\":with_fallback:M_outside(Ni)\"] + jp [\":with_fallback:M_outside(Tr)\"], mask = jp [\":E_exp\"] > 0.0 * u.erg, mask_frequency = True))\n",
    "    \n",
    "    newmasses = jp [\":M\"]\n",
    "    new_imf = janka_imf\n",
    "    mask = jp [\":E_exp\"].value > 0\n",
    "    print (\"Average SN Mass\", new_imf (newmasses, mask = mask, mask_frequency = True))\n",
    "\n",
    "    print (\"%\", new_imf (newmasses / newmasses, mask = mask), new_imf (newmasses / newmasses, mask = np.logical_and (newmasses > 20.0 * u.solMass, mask)) / new_imf (newmasses / newmasses, mask = mask))\n",
    "    print (new_imf (newmasses / newmasses, mask = np.logical_and (newmasses > 20.0 * u.solMass, mask)) / new_imf (newmasses / newmasses, mask = mask))\n",
    "    \n",
    "    wdata = np.genfromtxt (\"../wcores.dat\", names = True)\n",
    "    w_imf = integrator.IMFIntegrator (wdata [\"Minit\"])\n",
    "    w_remnants = wdata [remnant_approximation] * u.solMass\n",
    "        \n",
    "    baryonic_masses = u.Quantity (list (w_remnants) + list (jp [\":with_fallback:M_mass_cut_after_fb\"]))\n",
    "    \n",
    "    baryonic_masses [baryonic_masses > 2.5 * u.solMass] = 0. * u.solMass\n",
    "    integrated_baryonic_mass = (w_imf + janka_imf) (baryonic_masses, mask = baryonic_masses > 0.0 * u.solMass, mask_frequency = True)\n",
    "    print (\"M_remnant\", integrated_baryonic_mass, integrated_baryonic_mass * (1 - 3.0 / 5.0 * consts.G * integrated_baryonic_mass / (12 * u.km * consts.c ** 2)))\n",
    "    \n",
    "#     full_imf = integrator.IMFIntegrator (np.arange (9,15,0.1) * u.solMass)) + \n",
    "    \n",
    "#     mask = np.array (list (np.arange (9,15,0.1)>0) + list (jp [\":E_exp\"].value > 0)), dtype = bool)\n",
    "#     print (new_imf (newmasses, mask = mask, mask_frequency = True))\n",
    "#     print (new_imf (newmasses / newmasses, mask = mask))"
   ]
  },
  {
   "cell_type": "code",
   "execution_count": 177,
   "metadata": {
    "collapsed": false
   },
   "outputs": [],
   "source": [
    "import numpy as np"
   ]
  },
  {
   "cell_type": "code",
   "execution_count": 178,
   "metadata": {
    "collapsed": false
   },
   "outputs": [],
   "source": [
    "from kepler_utils.yields.yields import YieldReader\n",
    "from kepler_utils.yields.integrator import IMFIntegrator, Integrator\n",
    "import astropy.units as u\n",
    "import numpy as np\n",
    "\n",
    "from kepler_utils.plots.yields import YieldPlot\n"
   ]
  },
  {
   "cell_type": "code",
   "execution_count": 9,
   "metadata": {
    "collapsed": false
   },
   "outputs": [],
   "source": [
    "n20yr = YieldReader (directory = \"../yields/y_data_N20_special_13x6_120/\", masses = np.array (list (np.arange (13.6, 30.0, 0.1)) + [31, 32, 33, 35, 40, 45, 50, 55, 60, 70, 80, 100, 120]) * u.solMass, winds = False)\n",
    "w18yr = YieldReader (directory = \"../yields/y_data_W18_special_13x6_14x9/\", masses = np.arange (13.6, 14.9, 0.1) * u.solMass, winds = False)\n",
    "w18yr += YieldReader (directory = \"../yields/y_data_W18_special_15x0_30x0/\", masses = np.arange (15.0, 30.0, 0.1) * u.solMass, winds = False)\n",
    "w18yr += YieldReader (directory = \"../yields/y_data_W18_special_31_120/\", masses = np.array ([31, 32, 33, 35, 40, 45, 50, 55, 60, 70, 80, 100, 120]) * u.solMass, winds = False)\n",
    "whyr = YieldReader (directory = \"../yields/wh07/\", explosions = False)"
   ]
  },
  {
   "cell_type": "code",
   "execution_count": 9,
   "metadata": {
    "collapsed": false
   },
   "outputs": [
    {
     "ename": "NameError",
     "evalue": "name 'w18yr' is not defined",
     "output_type": "error",
     "traceback": [
      "\u001b[0;31m---------------------------------------------------------------------------\u001b[0m",
      "\u001b[0;31mNameError\u001b[0m                                 Traceback (most recent call last)",
      "\u001b[0;32m<ipython-input-9-3dc766402e9c>\u001b[0m in \u001b[0;36m<module>\u001b[0;34m()\u001b[0m\n\u001b[1;32m      5\u001b[0m \u001b[0;34m\u001b[0m\u001b[0m\n\u001b[1;32m      6\u001b[0m \u001b[0miso\u001b[0m \u001b[0;34m=\u001b[0m \u001b[0;34m\"mg24\"\u001b[0m\u001b[0;34m\u001b[0m\u001b[0m\n\u001b[0;32m----> 7\u001b[0;31m \u001b[0max\u001b[0m\u001b[0;34m.\u001b[0m\u001b[0mplot\u001b[0m \u001b[0;34m(\u001b[0m\u001b[0mw18yr\u001b[0m\u001b[0;34m.\u001b[0m\u001b[0mmasses\u001b[0m\u001b[0;34m.\u001b[0m\u001b[0mto\u001b[0m \u001b[0;34m(\u001b[0m\u001b[0mu\u001b[0m\u001b[0;34m.\u001b[0m\u001b[0msolMass\u001b[0m\u001b[0;34m)\u001b[0m \u001b[0;34m[\u001b[0m\u001b[0mw18yr\u001b[0m\u001b[0;34m.\u001b[0m\u001b[0mget_yield\u001b[0m \u001b[0;34m(\u001b[0m\u001b[0miso\u001b[0m\u001b[0;34m)\u001b[0m \u001b[0;34m>\u001b[0m \u001b[0;36m0.0\u001b[0m \u001b[0;34m*\u001b[0m \u001b[0mu\u001b[0m\u001b[0;34m.\u001b[0m\u001b[0msolMass\u001b[0m\u001b[0;34m]\u001b[0m\u001b[0;34m,\u001b[0m \u001b[0mw18yr\u001b[0m\u001b[0;34m.\u001b[0m\u001b[0mget_yield\u001b[0m \u001b[0;34m(\u001b[0m\u001b[0miso\u001b[0m\u001b[0;34m)\u001b[0m \u001b[0;34m[\u001b[0m\u001b[0mw18yr\u001b[0m\u001b[0;34m.\u001b[0m\u001b[0mget_yield\u001b[0m \u001b[0;34m(\u001b[0m\u001b[0miso\u001b[0m\u001b[0;34m)\u001b[0m \u001b[0;34m>\u001b[0m \u001b[0;36m0.0\u001b[0m \u001b[0;34m*\u001b[0m \u001b[0mu\u001b[0m\u001b[0;34m.\u001b[0m\u001b[0msolMass\u001b[0m\u001b[0;34m]\u001b[0m\u001b[0;34m)\u001b[0m\u001b[0;34m\u001b[0m\u001b[0m\n\u001b[0m\u001b[1;32m      8\u001b[0m \u001b[0max\u001b[0m\u001b[0;34m.\u001b[0m\u001b[0mplot\u001b[0m \u001b[0;34m(\u001b[0m\u001b[0mwhyr\u001b[0m\u001b[0;34m.\u001b[0m\u001b[0mmasses\u001b[0m\u001b[0;34m.\u001b[0m\u001b[0mto\u001b[0m \u001b[0;34m(\u001b[0m\u001b[0mu\u001b[0m\u001b[0;34m.\u001b[0m\u001b[0msolMass\u001b[0m\u001b[0;34m)\u001b[0m\u001b[0;34m,\u001b[0m \u001b[0mwhyr\u001b[0m\u001b[0;34m.\u001b[0m\u001b[0mget_yield\u001b[0m \u001b[0;34m(\u001b[0m\u001b[0miso\u001b[0m\u001b[0;34m)\u001b[0m\u001b[0;34m)\u001b[0m\u001b[0;34m\u001b[0m\u001b[0m\n\u001b[1;32m      9\u001b[0m \u001b[0;31m# ax.set_yscale (\"log\")\u001b[0m\u001b[0;34m\u001b[0m\u001b[0;34m\u001b[0m\u001b[0m\n",
      "\u001b[0;31mNameError\u001b[0m: name 'w18yr' is not defined"
     ]
    },
    {
     "data": {
      "image/png": "[encoded data removed]",
      "text/plain": [
       "<matplotlib.figure.Figure at 0x10d13b860>"
      ]
     },
     "metadata": {},
     "output_type": "display_data"
    }
   ],
   "source": [
    "import matplotlib.pyplot as plt\n",
    "%matplotlib inline\n",
    "\n",
    "fig, ax = plt.subplots (1, 1)\n",
    "\n",
    "iso = \"mg24\"\n",
    "ax.plot (w18yr.masses.to (u.solMass) [w18yr.get_yield (iso) > 0.0 * u.solMass], w18yr.get_yield (iso) [w18yr.get_yield (iso) > 0.0 * u.solMass])\n",
    "ax.plot (whyr.masses.to (u.solMass), whyr.get_yield (iso))\n",
    "# ax.set_yscale (\"log\")\n",
    "\n",
    "ax.set_xlim ((15, 35))"
   ]
  },
  {
   "cell_type": "code",
   "execution_count": 56,
   "metadata": {
    "collapsed": false
   },
   "outputs": [],
   "source": [
    "wdata = np.genfromtxt (\"../wcores.dat\", names = True)\n",
    "w_imf = integrator.IMFIntegrator (wdata [\"Minit\"])\n",
    "w_remnants = wdata [remnant_approximation] * u.solMass\n",
    "\n",
    "baryonic_masses = u.Quantity (list (w_remnants) + list (jp [\":with_fallback:M_mass_cut_after_fb\"]))\n",
    "# baryonic_masses = u.Quantity (list (jp [\":with_fallback:M_mass_cut_after_fb\"]))\n",
    "\n",
    "baryonic_masses [baryonic_masses > 2.5 * u.solMass] = 0. * u.solMass\n",
    "# numbers = (janka_imf).freq [baryonic_masses > 0.0 * u.solMass]\n",
    "numbers = (w_imf + janka_imf).freq [baryonic_masses > 0.0 * u.solMass]"
   ]
  },
  {
   "cell_type": "code",
   "execution_count": 57,
   "metadata": {
    "collapsed": false
   },
   "outputs": [],
   "source": [
    "tohist = [x for sublist in [[mass] * int (number) for mass, number in zip (baryonic_masses [baryonic_masses > 0.0 * u.solMass], numbers * 1000)] for x in sublist]"
   ]
  },
  {
   "cell_type": "code",
   "execution_count": 58,
   "metadata": {
    "collapsed": false
   },
   "outputs": [],
   "source": [
    "from scipy.interpolate import interp1d\n",
    "\n",
    "interpolator = interp1d ((w_imf + janka_imf).masses, baryonic_masses)"
   ]
  },
  {
   "cell_type": "code",
   "execution_count": 66,
   "metadata": {
    "collapsed": false
   },
   "outputs": [
    {
     "data": {
      "text/plain": [
       "<matplotlib.legend.Legend at 0x1135abe10>"
      ]
     },
     "execution_count": 66,
     "metadata": {},
     "output_type": "execute_result"
    },
    {
     "data": {
      "image/png": "[encoded data removed]",
      "text/plain": [
       "<matplotlib.figure.Figure at 0x110f35d30>"
      ]
     },
     "metadata": {},
     "output_type": "display_data"
    }
   ],
   "source": [
    "x = np.random.rand (1000000)\n",
    "x = (((1 - x) * max ((w_imf + janka_imf).masses) ** (-1.35) + x * min ((w_imf + janka_imf).masses) ** (-1.35)) ** (1. / -1.35)).value\n",
    "\n",
    "plt.figure (figsize = (10,8))\n",
    "\n",
    "dx1 = x [x < 10.]\n",
    "inter1 = interpolator (dx1)\n",
    "\n",
    "dx2 = x [np.logical_and (10. < x, x < 13.)]\n",
    "inter2 = interpolator (dx2)\n",
    "\n",
    "dx3 = x [np.logical_and (13. < x, x < 14)]\n",
    "inter3 = interpolator (dx3)\n",
    "\n",
    "dx6 = x [np.logical_and (14. < x, x < 15)]\n",
    "inter6 = interpolator (dx6)\n",
    "\n",
    "dx4 = x [np.logical_and (15 < x, x < 18)]\n",
    "inter4 = interpolator (dx4)\n",
    "\n",
    "dx5 = x [x > 18]\n",
    "inter5 = interpolator (dx5)\n",
    "\n",
    "\n",
    "# num, bins, patches = plt.hist ([inter1 [inter1 > 1.3],inter2[inter2 > 1.3]], \n",
    "num, bins, patches = plt.hist ([inter1 [inter1 > 1.3],inter2[inter2 > 1.3],inter3[inter3 > 1.3],inter6[inter6 > 1.3],inter4[inter4 > 1.3], inter5 [inter5 > 1.3]], \n",
    "                               40, stacked = True, label = [\"<10.\",\"10.--13\",\"13--14\",\"14--15\",\"15--18\",\">18\"])\n",
    "\n",
    "plt.legend (loc = \"upper right\")"
   ]
  },
  {
   "cell_type": "code",
   "execution_count": 55,
   "metadata": {
    "collapsed": false
   },
   "outputs": [
    {
     "data": {
      "text/plain": [
       "<matplotlib.legend.Legend at 0x11509cf98>"
      ]
     },
     "execution_count": 55,
     "metadata": {},
     "output_type": "execute_result"
    },
    {
     "data": {
      "image/png": "[encoded data removed]",
      "text/plain": [
       "<matplotlib.figure.Figure at 0x1150a08d0>"
      ]
     },
     "metadata": {},
     "output_type": "display_data"
    }
   ],
   "source": [
    "x = np.random.rand (1000000)\n",
    "x = (((1 - x) * max ((w_imf).masses) ** (-1.35) + x * min ((w_imf).masses) ** (-1.35)) ** (1. / -1.35)).value\n",
    "\n",
    "plt.figure (figsize = (10,8))\n",
    "\n",
    "dx1 = x [x < 10.]\n",
    "inter1 = interpolator (dx1)\n",
    "\n",
    "dx2 = x [np.logical_and (10. < x, x < 13.)]\n",
    "inter2 = interpolator (dx2)\n",
    "\n",
    "dx3 = x [np.logical_and (13. < x, x < 14)]\n",
    "inter3 = interpolator (dx3)\n",
    "\n",
    "dx6 = x [np.logical_and (14. < x, x < 15)]\n",
    "inter6 = interpolator (dx6)\n",
    "\n",
    "dx4 = x [np.logical_and (15 < x, x < 18)]\n",
    "inter4 = interpolator (dx4)\n",
    "\n",
    "dx5 = x [x > 18]\n",
    "inter5 = interpolator (dx5)\n",
    "\n",
    "num, bins, patches = plt.hist ([inter1 [inter1 > 1.3],inter2[inter2 > 1.3]], \n",
    "                               40, stacked = True, label = [\"<10.\",\"10.--13\",\"13--14\",\"14--15\",\"15--18\",\">18\"])\n",
    "\n",
    "plt.legend (loc = \"upper right\")"
   ]
  },
  {
   "cell_type": "code",
   "execution_count": 25,
   "metadata": {
    "collapsed": false
   },
   "outputs": [
    {
     "data": {
      "text/plain": [
       "<Quantity [ 16.23480422, 31.2693043 , 10.38821241,...,  18.24555277,\n",
       "            13.81924687, 15.58801506] solMass>"
      ]
     },
     "execution_count": 25,
     "metadata": {},
     "output_type": "execute_result"
    }
   ],
   "source": [
    "x"
   ]
  },
  {
   "cell_type": "code",
   "execution_count": 60,
   "metadata": {
    "collapsed": false
   },
   "outputs": [
    {
     "data": {
      "text/plain": [
       "<Quantity [ 1.356, 1.36 , 1.371, 1.377, 1.313, 1.436, 1.5  , 1.466, 1.516,\n",
       "            1.491, 1.516, 1.464, 1.543, 1.522, 1.537, 1.531, 1.536, 1.561,\n",
       "            1.56 , 1.589, 1.591, 1.59 , 1.596, 1.615, 1.614, 1.623, 1.629,\n",
       "            1.651, 1.658, 1.67 , 1.691, 1.693, 1.695, 1.72 , 1.762, 1.747,\n",
       "            1.766, 1.781, 1.784, 0.   , 0.   , 1.552, 0.   , 0.   , 0.   ,\n",
       "            0.   , 1.569, 1.558, 1.671, 1.54 , 1.589, 1.551, 1.553, 1.55 ,\n",
       "            1.553, 1.559, 1.554, 1.566, 1.566, 1.568, 1.577, 0.   , 1.608,\n",
       "            1.603, 1.587, 1.598, 1.63 , 0.   , 1.769, 1.715, 1.79 , 1.768,\n",
       "            1.808, 1.823, 1.566, 0.   , 1.631, 1.781, 1.833, 1.835, 1.825,\n",
       "            1.623, 1.499, 1.668, 0.   , 0.   , 1.37 , 1.443, 0.   , 0.   ,\n",
       "            1.718, 1.428, 1.498, 1.382, 1.371, 1.898, 0.   , 1.745, 0.   ,\n",
       "            1.508, 1.551, 1.917, 0.   , 0.   , 1.617, 1.637, 1.799, 0.   ,\n",
       "            0.   , 0.   , 0.   , 0.   , 0.   , 0.   , 0.   , 0.   , 0.   ,\n",
       "            0.   , 0.   , 0.   , 0.   , 0.   , 0.   , 0.   , 0.   , 0.   ,\n",
       "            0.   , 0.   , 0.   , 0.   , 0.   , 0.   , 0.   , 0.   , 0.   ,\n",
       "            0.   , 0.   , 0.   , 0.   , 0.   , 0.   , 1.8  , 1.877, 1.791,\n",
       "            1.8  , 1.777, 1.598, 1.58 , 1.684, 1.672, 1.679, 1.686, 1.706,\n",
       "            1.766, 1.766, 1.755, 1.763, 1.763, 1.754, 1.717, 1.725, 1.731,\n",
       "            1.728, 0.   , 0.   , 0.   , 0.   , 0.   , 0.   , 0.   , 0.   ,\n",
       "            0.   , 0.   , 0.   , 0.   , 0.   , 0.   , 0.   , 0.   , 0.   ,\n",
       "            0.   , 0.   , 0.   , 0.   , 0.   , 0.   , 0.   , 0.   , 0.   ,\n",
       "            0.   , 0.   , 0.   , 0.   , 0.   , 0.   , 0.   , 0.   , 0.   ,\n",
       "            1.702, 0.   , 1.906, 2.033, 1.703] solMass>"
      ]
     },
     "execution_count": 60,
     "metadata": {},
     "output_type": "execute_result"
    }
   ],
   "source": [
    "baryonic_masses"
   ]
  },
  {
   "cell_type": "code",
   "execution_count": 61,
   "metadata": {
    "collapsed": false
   },
   "outputs": [
    {
     "data": {
      "text/plain": [
       "<Quantity [ 9.  , 9.25, 9.3 , 9.4 ]>"
      ]
     },
     "execution_count": 61,
     "metadata": {},
     "output_type": "execute_result"
    }
   ],
   "source": [
    "w_imf.masses"
   ]
  },
  {
   "cell_type": "code",
   "execution_count": null,
   "metadata": {
    "collapsed": true
   },
   "outputs": [],
   "source": []
  }
 ],
 "metadata": {
  "kernelspec": {
   "display_name": "Python 3",
   "language": "python",
   "name": "python3"
  },
  "language_info": {
   "codemirror_mode": {
    "name": "ipython",
    "version": 3
   },
   "file_extension": ".py",
   "mimetype": "text/x-python",
   "name": "python",
   "nbconvert_exporter": "python",
   "pygments_lexer": "ipython3",
   "version": "3.4.3"
  }
 },
 "nbformat": 4,
 "nbformat_minor": 0
}
