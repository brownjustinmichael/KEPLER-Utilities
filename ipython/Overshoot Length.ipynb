{
 "metadata": {
  "name": "",
  "signature": "sha256:828ab95b864bc5cf6a9802e264eef05a5302fd9c7de0106ec4bc1b8bdd92a05e"
 },
 "nbformat": 3,
 "nbformat_minor": 0,
 "worksheets": [
  {
   "cells": [
    {
     "cell_type": "code",
     "collapsed": false,
     "input": [
      "import database.database as db\n",
      "\n",
      "session = db.Session ()"
     ],
     "language": "python",
     "metadata": {},
     "outputs": [],
     "prompt_number": 1
    },
    {
     "cell_type": "code",
     "collapsed": false,
     "input": [
      "query = db.basicQuery (session).filter (db.SimulationEntry.osfactor > 0.99).order_by (db.SimulationEntry.scpower).order_by (db.DumpFileEntry.ncyc)"
     ],
     "language": "python",
     "metadata": {},
     "outputs": [],
     "prompt_number": 2
    },
    {
     "cell_type": "code",
     "collapsed": false,
     "input": [
      "import numpy as np\n",
      "import math\n",
      "def core_overshoot (datadump):\n",
      "    regions = []\n",
      "    current = None\n",
      "    previous = 0\n",
      "    for i in range (len (datadump ['icon'])):\n",
      "        if current == None:\n",
      "            current = datadump ['icon'] [i] == \"osht\"\n",
      "        if current != (datadump ['icon'] [i] == \"osht\"):\n",
      "            if current:\n",
      "                regions.append (list (range (previous, i + 1)))\n",
      "            previous = i\n",
      "            current = (datadump ['icon'] [i] == \"osht\")\n",
      "    \n",
      "    q = -1\n",
      "    i = 0\n",
      "    while i == 0 and q < len (regions):\n",
      "        q += 1\n",
      "        i = np.argmax (datadump ['difi'] [regions [0]] < datadump ['difi'] [regions [0] [0]] / math.e)\n",
      "    ri = regions [0] [i]\n",
      "    frac = 0.0\n",
      "    print (i)\n",
      "    for j in range (i):\n",
      "        frac -= 0.5 * (datadump ['rn'] [ri + j + 1] - datadump ['rn'] [ri + j - 1]) / (0.5 * (datadump ['pn'] [ri + j] + datadump ['pn'] [ri + j - 1]) / (datadump ['pn'] [ri + j] - datadump ['pn'] [ri + j - 1]) * (datadump ['rn'] [ri + j] - datadump ['rn'] [ri + j - 1]))\n",
      "    return frac\n",
      "\n",
      "def env_overshoot (datadump):\n",
      "    regions = []\n",
      "    current = None\n",
      "    previous = 0\n",
      "    for i in range (len (datadump ['icon'])):\n",
      "        if current == None:\n",
      "            current = datadump ['icon'] [i] == \"osht\"\n",
      "        if current != (datadump ['icon'] [i] == \"osht\"):\n",
      "            if current:\n",
      "                regions.append (list (range (previous, i + 1)))\n",
      "            previous = i\n",
      "            current = (datadump ['icon'] [i] == \"osht\")\n",
      "    \n",
      "    q = 0\n",
      "    i = 0\n",
      "    while (i == 0 and -(q) < len (regions)):\n",
      "        q -= 1\n",
      "        i = np.argmin ((datadump ['difi'] [regions [q]] < datadump ['difi'] [regions [q] [-1]] / math.e))\n",
      "    ri = regions [q] [i]\n",
      "    frac = 0.0\n",
      "    for j in range (0, len (regions [q]) - i):\n",
      "        frac -= 0.5 * (datadump ['rn'] [ri + j + 1] - datadump ['rn'] [ri + j - 1]) / (0.5 * (datadump ['pn'] [ri + j] + datadump ['pn'] [ri + j - 1]) / (datadump ['pn'] [ri + j] - datadump ['pn'] [ri + j - 1]) * (datadump ['rn'] [ri + j] - datadump ['rn'] [ri + j - 1]))\n",
      "    return frac"
     ],
     "language": "python",
     "metadata": {},
     "outputs": [],
     "prompt_number": 31
    },
    {
     "cell_type": "code",
     "collapsed": false,
     "input": [
      "dump = query.all () [3] [1].get_data ()"
     ],
     "language": "python",
     "metadata": {},
     "outputs": [
      {
       "output_type": "stream",
       "stream": "stdout",
       "text": [
        "Loading Dump from /Users/justinbrown/Codes/kepler/run/s20/s20o1.-3#hign\n",
        "Version is 170014\n"
       ]
      }
     ],
     "prompt_number": 32
    },
    {
     "cell_type": "code",
     "collapsed": false,
     "input": [
      "print (env_overshoot (dump))"
     ],
     "language": "python",
     "metadata": {},
     "outputs": [
      {
       "output_type": "stream",
       "stream": "stdout",
       "text": [
        "959 -1 0\n",
        "RI 773\n",
        "0\n",
        "0.7347904786067807"
       ]
      },
      {
       "output_type": "stream",
       "stream": "stdout",
       "text": [
        "\n"
       ]
      }
     ],
     "prompt_number": 34
    },
    {
     "cell_type": "code",
     "collapsed": false,
     "input": [],
     "language": "python",
     "metadata": {},
     "outputs": []
    }
   ],
   "metadata": {}
  }
 ]
}